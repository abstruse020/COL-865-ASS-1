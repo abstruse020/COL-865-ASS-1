{
 "cells": [
  {
   "cell_type": "code",
   "execution_count": 1,
   "id": "19ded97c-39c7-4026-9dcf-6ebcc7ec2bcf",
   "metadata": {},
   "outputs": [],
   "source": [
    "from pytorch_tabnet.tab_model import TabNetClassifier, TabNetRegressor\n",
    "from sklearn.model_selection import train_test_split\n",
    "from sklearn.preprocessing import StandardScaler\n",
    "from sklearn.metrics import classification_report, confusion_matrix, accuracy_score\n",
    "import pandas as pd\n",
    "import numpy as np\n",
    "import arff\n",
    "import matplotlib.pyplot as plt\n",
    "import seaborn as sns"
   ]
  },
  {
   "cell_type": "code",
   "execution_count": 2,
   "id": "9b28dbdf-d1b0-4ce9-a5c5-cf306c769391",
   "metadata": {},
   "outputs": [
    {
     "data": {
      "text/html": [
       "<div>\n",
       "<style scoped>\n",
       "    .dataframe tbody tr th:only-of-type {\n",
       "        vertical-align: middle;\n",
       "    }\n",
       "\n",
       "    .dataframe tbody tr th {\n",
       "        vertical-align: top;\n",
       "    }\n",
       "\n",
       "    .dataframe thead th {\n",
       "        text-align: right;\n",
       "    }\n",
       "</style>\n",
       "<table border=\"1\" class=\"dataframe\">\n",
       "  <thead>\n",
       "    <tr style=\"text-align: right;\">\n",
       "      <th></th>\n",
       "      <th>address</th>\n",
       "      <th>year</th>\n",
       "      <th>day</th>\n",
       "      <th>length</th>\n",
       "      <th>weight</th>\n",
       "      <th>count</th>\n",
       "      <th>looped</th>\n",
       "      <th>neighbors</th>\n",
       "      <th>income</th>\n",
       "      <th>label</th>\n",
       "    </tr>\n",
       "  </thead>\n",
       "  <tbody>\n",
       "    <tr>\n",
       "      <th>0</th>\n",
       "      <td>111K8kZAEnJg245r2cM6y9zgJGHZtJPy6</td>\n",
       "      <td>2017</td>\n",
       "      <td>11</td>\n",
       "      <td>18</td>\n",
       "      <td>0.008333</td>\n",
       "      <td>1</td>\n",
       "      <td>0</td>\n",
       "      <td>2</td>\n",
       "      <td>100050000</td>\n",
       "      <td>princetonCerber</td>\n",
       "    </tr>\n",
       "    <tr>\n",
       "      <th>1</th>\n",
       "      <td>1123pJv8jzeFQaCV4w644pzQJzVWay2zcA</td>\n",
       "      <td>2016</td>\n",
       "      <td>132</td>\n",
       "      <td>44</td>\n",
       "      <td>0.000244</td>\n",
       "      <td>1</td>\n",
       "      <td>0</td>\n",
       "      <td>1</td>\n",
       "      <td>100000000</td>\n",
       "      <td>princetonLocky</td>\n",
       "    </tr>\n",
       "    <tr>\n",
       "      <th>2</th>\n",
       "      <td>112536im7hy6wtKbpH1qYDWtTyMRAcA2p7</td>\n",
       "      <td>2016</td>\n",
       "      <td>246</td>\n",
       "      <td>0</td>\n",
       "      <td>1.000000</td>\n",
       "      <td>1</td>\n",
       "      <td>0</td>\n",
       "      <td>2</td>\n",
       "      <td>200000000</td>\n",
       "      <td>princetonCerber</td>\n",
       "    </tr>\n",
       "    <tr>\n",
       "      <th>3</th>\n",
       "      <td>1126eDRw2wqSkWosjTCre8cjjQW8sSeWH7</td>\n",
       "      <td>2016</td>\n",
       "      <td>322</td>\n",
       "      <td>72</td>\n",
       "      <td>0.003906</td>\n",
       "      <td>1</td>\n",
       "      <td>0</td>\n",
       "      <td>2</td>\n",
       "      <td>71200000</td>\n",
       "      <td>princetonCerber</td>\n",
       "    </tr>\n",
       "    <tr>\n",
       "      <th>4</th>\n",
       "      <td>1129TSjKtx65E35GiUo4AYVeyo48twbrGX</td>\n",
       "      <td>2016</td>\n",
       "      <td>238</td>\n",
       "      <td>144</td>\n",
       "      <td>0.072848</td>\n",
       "      <td>456</td>\n",
       "      <td>0</td>\n",
       "      <td>1</td>\n",
       "      <td>200000000</td>\n",
       "      <td>princetonLocky</td>\n",
       "    </tr>\n",
       "  </tbody>\n",
       "</table>\n",
       "</div>"
      ],
      "text/plain": [
       "                              address  year  day  length    weight  count  \\\n",
       "0   111K8kZAEnJg245r2cM6y9zgJGHZtJPy6  2017   11      18  0.008333      1   \n",
       "1  1123pJv8jzeFQaCV4w644pzQJzVWay2zcA  2016  132      44  0.000244      1   \n",
       "2  112536im7hy6wtKbpH1qYDWtTyMRAcA2p7  2016  246       0  1.000000      1   \n",
       "3  1126eDRw2wqSkWosjTCre8cjjQW8sSeWH7  2016  322      72  0.003906      1   \n",
       "4  1129TSjKtx65E35GiUo4AYVeyo48twbrGX  2016  238     144  0.072848    456   \n",
       "\n",
       "   looped  neighbors     income            label  \n",
       "0       0          2  100050000  princetonCerber  \n",
       "1       0          1  100000000   princetonLocky  \n",
       "2       0          2  200000000  princetonCerber  \n",
       "3       0          2   71200000  princetonCerber  \n",
       "4       0          1  200000000   princetonLocky  "
      ]
     },
     "execution_count": 2,
     "metadata": {},
     "output_type": "execute_result"
    }
   ],
   "source": [
    "bitcoin_db_path = '../BitcoinHeist_Ransomware/dataset.arff'\n",
    "bitcoin_data = arff.load(open(bitcoin_db_path,'r'))\n",
    "\n",
    "bitcoin_columns = [c[0] for c in bitcoin_data['attributes']]\n",
    "bitcoin_columns\n",
    "\n",
    "bitcoin_df = pd.DataFrame(bitcoin_data['data'], columns=bitcoin_columns)\n",
    "bitcoin_df.shape\n",
    "\n",
    "# y_labels = bitcoin_df['label'] == 'white'\n",
    "# bitcoin_df['y'] = y_labels.astype('int')\n",
    "\n",
    "bitcoin_df.head()"
   ]
  },
  {
   "cell_type": "code",
   "execution_count": 3,
   "id": "2f49dfce-f158-4684-915b-d9ce77c89d39",
   "metadata": {},
   "outputs": [
    {
     "name": "stdout",
     "output_type": "stream",
     "text": [
      "montrealAPT 11\n",
      "\t temp_train size:(8, 10), temp_test size:(3, 10)\n",
      "montrealComradeCircle 1\n",
      "montrealCryptConsole 7\n",
      "\t temp_train size:(5, 10), temp_test size:(2, 10)\n",
      "montrealCryptXXX 2419\n",
      "\t temp_train size:(1935, 10), temp_test size:(484, 10)\n",
      "montrealCryptoLocker 9315\n",
      "\t temp_train size:(7452, 10), temp_test size:(1863, 10)\n",
      "montrealCryptoTorLocker2015 55\n",
      "\t temp_train size:(44, 10), temp_test size:(11, 10)\n",
      "montrealDMALocker 251\n",
      "\t temp_train size:(200, 10), temp_test size:(51, 10)\n",
      "montrealDMALockerv3 354\n",
      "\t temp_train size:(283, 10), temp_test size:(71, 10)\n",
      "montrealEDA2 6\n",
      "\t temp_train size:(4, 10), temp_test size:(2, 10)\n",
      "montrealFlyper 9\n",
      "\t temp_train size:(7, 10), temp_test size:(2, 10)\n",
      "montrealGlobe 32\n",
      "\t temp_train size:(25, 10), temp_test size:(7, 10)\n",
      "montrealGlobeImposter 55\n",
      "\t temp_train size:(44, 10), temp_test size:(11, 10)\n",
      "montrealGlobev3 34\n",
      "\t temp_train size:(27, 10), temp_test size:(7, 10)\n",
      "montrealJigSaw 4\n",
      "\t temp_train size:(3, 10), temp_test size:(1, 10)\n",
      "montrealNoobCrypt 483\n",
      "\t temp_train size:(386, 10), temp_test size:(97, 10)\n",
      "montrealRazy 13\n",
      "\t temp_train size:(10, 10), temp_test size:(3, 10)\n",
      "montrealSam 1\n",
      "montrealSamSam 62\n",
      "\t temp_train size:(49, 10), temp_test size:(13, 10)\n",
      "montrealVenusLocker 7\n",
      "\t temp_train size:(5, 10), temp_test size:(2, 10)\n",
      "montrealWannaCry 28\n",
      "\t temp_train size:(22, 10), temp_test size:(6, 10)\n",
      "montrealXLocker 1\n",
      "montrealXLockerv5.0 7\n",
      "\t temp_train size:(5, 10), temp_test size:(2, 10)\n",
      "montrealXTPLocker 8\n",
      "\t temp_train size:(6, 10), temp_test size:(2, 10)\n",
      "paduaCryptoWall 12390\n",
      "\t temp_train size:(9912, 10), temp_test size:(2478, 10)\n",
      "paduaJigsaw 2\n",
      "\t temp_train size:(1, 10), temp_test size:(1, 10)\n",
      "paduaKeRanger 10\n",
      "\t temp_train size:(8, 10), temp_test size:(2, 10)\n",
      "princetonCerber 9223\n",
      "\t temp_train size:(7378, 10), temp_test size:(1845, 10)\n",
      "princetonLocky 6625\n",
      "\t temp_train size:(5300, 10), temp_test size:(1325, 10)\n",
      "white 2875284\n",
      "\t temp_train size:(2300227, 10), temp_test size:(575057, 10)\n",
      "\n",
      "small sized labels:['montrealComradeCircle', 'montrealSam', 'montrealXLocker']\n"
     ]
    },
    {
     "data": {
      "text/html": [
       "<div>\n",
       "<style scoped>\n",
       "    .dataframe tbody tr th:only-of-type {\n",
       "        vertical-align: middle;\n",
       "    }\n",
       "\n",
       "    .dataframe tbody tr th {\n",
       "        vertical-align: top;\n",
       "    }\n",
       "\n",
       "    .dataframe thead th {\n",
       "        text-align: right;\n",
       "    }\n",
       "</style>\n",
       "<table border=\"1\" class=\"dataframe\">\n",
       "  <thead>\n",
       "    <tr style=\"text-align: right;\">\n",
       "      <th></th>\n",
       "      <th>address</th>\n",
       "      <th>year</th>\n",
       "      <th>day</th>\n",
       "      <th>length</th>\n",
       "      <th>weight</th>\n",
       "      <th>count</th>\n",
       "      <th>looped</th>\n",
       "      <th>neighbors</th>\n",
       "      <th>income</th>\n",
       "      <th>label</th>\n",
       "    </tr>\n",
       "  </thead>\n",
       "  <tbody>\n",
       "    <tr>\n",
       "      <th>0</th>\n",
       "      <td>1HssDyDTZj1hVdwhdpF49wLKLPQoCRJB9T</td>\n",
       "      <td>2016</td>\n",
       "      <td>292</td>\n",
       "      <td>144</td>\n",
       "      <td>0.051214</td>\n",
       "      <td>1241</td>\n",
       "      <td>0</td>\n",
       "      <td>2</td>\n",
       "      <td>203320001</td>\n",
       "      <td>montrealComradeCircle</td>\n",
       "    </tr>\n",
       "    <tr>\n",
       "      <th>1</th>\n",
       "      <td>1Ha4Y7QegJL2t577XK6nSUdCYAKKQC99sG</td>\n",
       "      <td>2016</td>\n",
       "      <td>271</td>\n",
       "      <td>6</td>\n",
       "      <td>0.062500</td>\n",
       "      <td>1</td>\n",
       "      <td>1</td>\n",
       "      <td>3</td>\n",
       "      <td>2900000000</td>\n",
       "      <td>montrealSam</td>\n",
       "    </tr>\n",
       "    <tr>\n",
       "      <th>2</th>\n",
       "      <td>1EEHF6uucK2UNtbwxTyAzZ74wNudApYWQm</td>\n",
       "      <td>2017</td>\n",
       "      <td>144</td>\n",
       "      <td>144</td>\n",
       "      <td>0.412207</td>\n",
       "      <td>4511</td>\n",
       "      <td>0</td>\n",
       "      <td>1</td>\n",
       "      <td>100000000</td>\n",
       "      <td>montrealXLocker</td>\n",
       "    </tr>\n",
       "  </tbody>\n",
       "</table>\n",
       "</div>"
      ],
      "text/plain": [
       "                              address  year  day length    weight count  \\\n",
       "0  1HssDyDTZj1hVdwhdpF49wLKLPQoCRJB9T  2016  292    144  0.051214  1241   \n",
       "1  1Ha4Y7QegJL2t577XK6nSUdCYAKKQC99sG  2016  271      6  0.062500     1   \n",
       "2  1EEHF6uucK2UNtbwxTyAzZ74wNudApYWQm  2017  144    144  0.412207  4511   \n",
       "\n",
       "  looped neighbors      income                  label  \n",
       "0      0         2   203320001  montrealComradeCircle  \n",
       "1      1         3  2900000000            montrealSam  \n",
       "2      0         1   100000000        montrealXLocker  "
      ]
     },
     "execution_count": 3,
     "metadata": {},
     "output_type": "execute_result"
    }
   ],
   "source": [
    "## making duplicate row if dataset only has 1 row for given class\n",
    "label_grp_df = bitcoin_df.groupby('label')\n",
    "min_label_size = 2\n",
    "test_size = 0.2\n",
    "small_sized_labels = []\n",
    "small_sized_labels_df = pd.DataFrame(columns=bitcoin_df.columns)\n",
    "# y_df = pd.get_dummies(bitcoin_df.iloc[:,-1])\n",
    "train_df = pd.DataFrame(columns=bitcoin_df.columns)\n",
    "test_df = pd.DataFrame(columns=bitcoin_df.columns)\n",
    "\n",
    "for grp_label, grp in label_grp_df:\n",
    "    grp_size = len(grp)\n",
    "    print(grp_label, grp_size)\n",
    "    if grp_size < min_label_size:\n",
    "        small_sized_labels.append(grp_label)\n",
    "        #print(f'grp:{grp}')\n",
    "        for row in grp.iterrows():\n",
    "            #print('row',row[1])\n",
    "            small_sized_labels_df = small_sized_labels_df.append(row[1], ignore_index=True)\n",
    "            train_df = train_df.append(row[1], ignore_index=True)\n",
    "            test_df = test_df.append(row[1], ignore_index=True)\n",
    "    else:\n",
    "        temp_train, temp_test = train_test_split(grp, test_size=0.2)\n",
    "        print(f'\\t temp_train size:{temp_train.shape}, temp_test size:{temp_test.shape}')\n",
    "        train_df = pd.concat([train_df, temp_train], ignore_index=True)\n",
    "        test_df = pd.concat([test_df, temp_test], ignore_index=True)\n",
    "        \n",
    "print(f'\\nsmall sized labels:{small_sized_labels}')\n",
    "train_df = train_df.sample(frac=1)\n",
    "test_df = test_df.sample(frac=1)\n",
    "small_sized_labels_df"
   ]
  },
  {
   "cell_type": "code",
   "execution_count": 4,
   "id": "bd82da21-b010-401b-a0a3-9fb4498be3ba",
   "metadata": {},
   "outputs": [],
   "source": [
    "X_train = train_df.iloc[:, 1:9]\n",
    "y_train = pd.get_dummies(train_df.iloc[:,-1])\n",
    "X_test = test_df.iloc[:, 1:9]\n",
    "y_test = pd.get_dummies(test_df.iloc[:,-1])"
   ]
  },
  {
   "cell_type": "code",
   "execution_count": 5,
   "id": "9c3e5b55-3c84-49a5-a445-8ff2df752ab1",
   "metadata": {},
   "outputs": [],
   "source": [
    "sc = StandardScaler()\n",
    "X_train = sc.fit_transform(X_train)\n",
    "X_test = sc.transform(X_test)"
   ]
  },
  {
   "cell_type": "code",
   "execution_count": 6,
   "id": "4ff94623-bbe4-4b90-855c-0da548c551d4",
   "metadata": {},
   "outputs": [
    {
     "data": {
      "text/plain": [
       "address      33122\n",
       "year         33122\n",
       "day          33122\n",
       "length       33122\n",
       "weight       33122\n",
       "count        33122\n",
       "looped       33122\n",
       "neighbors    33122\n",
       "income       33122\n",
       "label        33122\n",
       "dtype: int64"
      ]
     },
     "execution_count": 6,
     "metadata": {},
     "output_type": "execute_result"
    }
   ],
   "source": [
    "train_df[train_df['label']!='white'].count()"
   ]
  },
  {
   "cell_type": "code",
   "execution_count": 7,
   "id": "688b4f16-5d52-4269-b112-ae32a2d71dc1",
   "metadata": {},
   "outputs": [
    {
     "data": {
      "text/plain": [
       "((583351, 29), (2333349, 8), (2333349, 29))"
      ]
     },
     "execution_count": 7,
     "metadata": {},
     "output_type": "execute_result"
    }
   ],
   "source": [
    "y_test.values.shape, X_train.shape, y_train.shape"
   ]
  },
  {
   "cell_type": "code",
   "execution_count": 8,
   "id": "69738647-4218-48e1-a765-938c20df840f",
   "metadata": {
    "tags": []
   },
   "outputs": [],
   "source": [
    "# %%time\n",
    "# clf = TabNetClassifier()  #TabNetRegressor()\n",
    "# # clf.fit(\n",
    "# #   X_train, y_train,\n",
    "# #   eval_set=[(X_valid, y_valid)]\n",
    "# # )\n",
    "# clf.fit(\n",
    "#   X_train, y_train\n",
    "# )"
   ]
  },
  {
   "cell_type": "code",
   "execution_count": 9,
   "id": "1cc71a2c-064c-45da-b791-b59c1c7fcc08",
   "metadata": {},
   "outputs": [
    {
     "name": "stdout",
     "output_type": "stream",
     "text": [
      "Device used : cuda\n",
      "epoch 0  | loss: 0.00797 | val_0_logloss: 0.00475 |  0:02:53s\n",
      "epoch 1  | loss: 0.00474 | val_0_logloss: 0.00469 |  0:05:46s\n",
      "epoch 2  | loss: 0.00465 | val_0_logloss: 0.00472 |  0:08:39s\n",
      "epoch 3  | loss: 0.00465 | val_0_logloss: 0.00457 |  0:11:31s\n",
      "epoch 4  | loss: 0.00453 | val_0_logloss: 0.00457 |  0:14:22s\n",
      "epoch 5  | loss: 0.00452 | val_0_logloss: 0.00456 |  0:17:13s\n",
      "epoch 6  | loss: 0.0045  | val_0_logloss: 0.00466 |  0:20:05s\n",
      "epoch 7  | loss: 0.00459 | val_0_logloss: 0.0046  |  0:22:56s\n",
      "epoch 8  | loss: 0.00458 | val_0_logloss: 0.00469 |  0:25:45s\n",
      "epoch 9  | loss: 0.00456 | val_0_logloss: 0.00461 |  0:28:38s\n",
      "Stop training because you reached max_epochs = 10 with best_epoch = 5 and best_val_0_logloss = 0.00456\n",
      "Best weights from best epoch are automatically used!\n",
      "Wall time: 31min 39s\n"
     ]
    }
   ],
   "source": [
    "%%time\n",
    "from pytorch_tabnet.multitask import TabNetMultiTaskClassifier\n",
    "clf = TabNetMultiTaskClassifier()\n",
    "clf.fit(\n",
    "  X_train, y_train.values, max_epochs=10, \n",
    "    eval_set=[(X_test, y_test.values)]\n",
    ")\n",
    "# preds = clf.predict(X_test)"
   ]
  },
  {
   "cell_type": "code",
   "execution_count": 10,
   "id": "0ca5f507-aa6c-4b9b-ac07-c482c133bb89",
   "metadata": {},
   "outputs": [
    {
     "name": "stdout",
     "output_type": "stream",
     "text": [
      "Wall time: 1min 54s\n"
     ]
    },
    {
     "data": {
      "text/plain": [
       "0.9858049524524621"
      ]
     },
     "execution_count": 10,
     "metadata": {},
     "output_type": "execute_result"
    }
   ],
   "source": [
    "%%time\n",
    "train_preds = np.array(clf.predict(X_train)).T.astype('int')\n",
    "accuracy_score(y_train.values, train_preds)"
   ]
  },
  {
   "cell_type": "code",
   "execution_count": 11,
   "id": "7ee38328-8d63-4f44-91b2-bb5c181162ee",
   "metadata": {},
   "outputs": [
    {
     "name": "stdout",
     "output_type": "stream",
     "text": [
      "Wall time: 28.4 s\n"
     ]
    },
    {
     "data": {
      "text/plain": [
       "0.985782144883612"
      ]
     },
     "execution_count": 11,
     "metadata": {},
     "output_type": "execute_result"
    }
   ],
   "source": [
    "%%time\n",
    "test_preds = np.array(clf.predict(X_test)).T.astype('int')\n",
    "accuracy_score(y_test.values, test_preds)"
   ]
  },
  {
   "cell_type": "code",
   "execution_count": 12,
   "id": "88e31486-466b-4932-a527-c6d45a1a41d9",
   "metadata": {
    "tags": []
   },
   "outputs": [],
   "source": [
    "y_train_linear = [row.argmax() for row in y_train.values]\n",
    "y_test_linear = [row.argmax() for row in y_test.values]\n",
    "\n",
    "y_test_pred_linear = [row.argmax() for row in test_preds]\n",
    "y_train_pred_linear = [row.argmax() for row in train_preds]\n",
    "# y_test_pred_linear "
   ]
  },
  {
   "cell_type": "code",
   "execution_count": 13,
   "id": "65dca29d-bf4b-437d-8a8c-08bd214a1b64",
   "metadata": {},
   "outputs": [],
   "source": [
    "train_cnf_matrix = confusion_matrix(y_train_linear, y_train_pred_linear)\n",
    "test_conf_matrix = confusion_matrix(y_test_linear, y_test_pred_linear)"
   ]
  },
  {
   "cell_type": "code",
   "execution_count": 16,
   "id": "da0e3afd-cc71-4ac4-9430-bffc8e2ee792",
   "metadata": {},
   "outputs": [
    {
     "data": {
      "image/png": "[encoded data removed]",
      "text/plain": [
       "<Figure size 1080x864 with 2 Axes>"
      ]
     },
     "metadata": {
      "needs_background": "light"
     },
     "output_type": "display_data"
    }
   ],
   "source": [
    "plt.figure(figsize=(15,12))\n",
    "train_cnf_df = pd.DataFrame(train_cnf_matrix, index= range(29), columns=range(29))\n",
    "sns.heatmap(np.log(train_cnf_df+1), annot=True)\n",
    "plt.xlabel('Predicted Values')\n",
    "plt.ylabel('Actual Values')\n",
    "plt.title(\"Log Correlation matrix of train\")\n",
    "plt.savefig('tab_net_conf_mat_train.png')"
   ]
  },
  {
   "cell_type": "code",
   "execution_count": 17,
   "id": "18d2d937-a0e1-48b4-97d9-c673e892a19e",
   "metadata": {},
   "outputs": [
    {
     "data": {
      "image/png": "[encoded data removed]",
      "text/plain": [
       "<Figure size 1080x864 with 2 Axes>"
      ]
     },
     "metadata": {
      "needs_background": "light"
     },
     "output_type": "display_data"
    }
   ],
   "source": [
    "plt.figure(figsize=(15,12))\n",
    "test_cnf_df = pd.DataFrame(test_conf_matrix, index= range(29), columns=range(29))\n",
    "sns.heatmap(np.log(test_cnf_df+1), annot=True)\n",
    "plt.xlabel('Predicted Values')\n",
    "plt.ylabel('Actual Values')\n",
    "plt.title(\"Log Correlation matrix of test\")\n",
    "plt.savefig('tab_net_conf_mat_test.png')"
   ]
  },
  {
   "cell_type": "code",
   "execution_count": null,
   "id": "92b75c08-a9a8-4e0f-886a-d722137d4693",
   "metadata": {},
   "outputs": [],
   "source": []
  },
  {
   "cell_type": "code",
   "execution_count": null,
   "id": "5c853fdd-baa8-4928-8cd2-be91c38e0b82",
   "metadata": {},
   "outputs": [],
   "source": []
  },
  {
   "cell_type": "code",
   "execution_count": null,
   "id": "ce81dfd8-93e7-4e07-be93-8b8d6fd30f33",
   "metadata": {},
   "outputs": [],
   "source": []
  }
 ],
 "metadata": {
  "kernelspec": {
   "display_name": "Python 3",
   "language": "python",
   "name": "python3"
  },
  "language_info": {
   "codemirror_mode": {
    "name": "ipython",
    "version": 3
   },
   "file_extension": ".py",
   "mimetype": "text/x-python",
   "name": "python",
   "nbconvert_exporter": "python",
   "pygments_lexer": "ipython3",
   "version": "3.8.8"
  }
 },
 "nbformat": 4,
 "nbformat_minor": 5
}
