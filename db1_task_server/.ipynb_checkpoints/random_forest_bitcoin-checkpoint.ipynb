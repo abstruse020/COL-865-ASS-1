{
 "cells": [
  {
   "cell_type": "code",
   "execution_count": 1,
   "id": "5fb319fc-169e-4f4c-b825-5e14752ff7c5",
   "metadata": {},
   "outputs": [],
   "source": [
    "from sklearn.ensemble import RandomForestClassifier\n",
    "from sklearn.datasets import make_classification\n",
    "from sklearn.model_selection import train_test_split\n",
    "from sklearn.preprocessing import StandardScaler\n",
    "from sklearn.metrics import classification_report, confusion_matrix, accuracy_score\n",
    "import pandas as pd\n",
    "import numpy as np\n",
    "import arff\n",
    "import matplotlib.pyplot as plt\n",
    "import seaborn as sns\n",
    "# from scipy.io import arff"
   ]
  },
  {
   "cell_type": "code",
   "execution_count": 2,
   "id": "a2dbd24f-a2df-43e3-88cd-d925074aee9b",
   "metadata": {},
   "outputs": [],
   "source": [
    "bitcoin_db_path = '../BitcoinHeist_Ransomware/dataset.arff'\n",
    "bitcoin_data = arff.load(open(bitcoin_db_path,'r'))"
   ]
  },
  {
   "cell_type": "code",
   "execution_count": 3,
   "id": "48e358c8-20c7-4b4f-bf77-7988a7de00bf",
   "metadata": {
    "tags": []
   },
   "outputs": [],
   "source": [
    "# bitcoin_data['attributes']"
   ]
  },
  {
   "cell_type": "code",
   "execution_count": 4,
   "id": "50f800e6-85a0-4ea3-9e49-a9a49e8fd01c",
   "metadata": {
    "tags": []
   },
   "outputs": [
    {
     "data": {
      "text/plain": [
       "['address',\n",
       " 'year',\n",
       " 'day',\n",
       " 'length',\n",
       " 'weight',\n",
       " 'count',\n",
       " 'looped',\n",
       " 'neighbors',\n",
       " 'income',\n",
       " 'label']"
      ]
     },
     "execution_count": 4,
     "metadata": {},
     "output_type": "execute_result"
    }
   ],
   "source": [
    "bitcoin_columns = [c[0] for c in bitcoin_data['attributes']]\n",
    "bitcoin_columns"
   ]
  },
  {
   "cell_type": "code",
   "execution_count": 5,
   "id": "2d2b6fc4-a9e3-4d93-b0cc-56dc1c6799c3",
   "metadata": {
    "tags": []
   },
   "outputs": [
    {
     "data": {
      "text/plain": [
       "(2916697, 10)"
      ]
     },
     "execution_count": 5,
     "metadata": {},
     "output_type": "execute_result"
    }
   ],
   "source": [
    "bitcoin_df = pd.DataFrame(bitcoin_data['data'], columns=bitcoin_columns)\n",
    "bitcoin_df.shape"
   ]
  },
  {
   "cell_type": "markdown",
   "id": "3b059f75-8fef-4d4d-aeb1-f24de3304c30",
   "metadata": {
    "tags": []
   },
   "source": [
    "## Exploring dataset"
   ]
  },
  {
   "cell_type": "code",
   "execution_count": 6,
   "id": "1adf4969-7219-464d-8164-b6a83ffa45d3",
   "metadata": {},
   "outputs": [],
   "source": [
    "# y_labels = bitcoin_df['label'] == 'white'\n",
    "# bitcoin_df['y'] = y_labels.astype('int')"
   ]
  },
  {
   "cell_type": "code",
   "execution_count": 7,
   "id": "1effd821-38e1-4dec-9411-207c2e98e635",
   "metadata": {
    "tags": []
   },
   "outputs": [
    {
     "data": {
      "text/html": [
       "<div>\n",
       "<style scoped>\n",
       "    .dataframe tbody tr th:only-of-type {\n",
       "        vertical-align: middle;\n",
       "    }\n",
       "\n",
       "    .dataframe tbody tr th {\n",
       "        vertical-align: top;\n",
       "    }\n",
       "\n",
       "    .dataframe thead th {\n",
       "        text-align: right;\n",
       "    }\n",
       "</style>\n",
       "<table border=\"1\" class=\"dataframe\">\n",
       "  <thead>\n",
       "    <tr style=\"text-align: right;\">\n",
       "      <th></th>\n",
       "      <th>address</th>\n",
       "      <th>year</th>\n",
       "      <th>day</th>\n",
       "      <th>length</th>\n",
       "      <th>weight</th>\n",
       "      <th>count</th>\n",
       "      <th>looped</th>\n",
       "      <th>neighbors</th>\n",
       "      <th>income</th>\n",
       "      <th>label</th>\n",
       "    </tr>\n",
       "  </thead>\n",
       "  <tbody>\n",
       "    <tr>\n",
       "      <th>0</th>\n",
       "      <td>111K8kZAEnJg245r2cM6y9zgJGHZtJPy6</td>\n",
       "      <td>2017</td>\n",
       "      <td>11</td>\n",
       "      <td>18</td>\n",
       "      <td>0.008333</td>\n",
       "      <td>1</td>\n",
       "      <td>0</td>\n",
       "      <td>2</td>\n",
       "      <td>100050000</td>\n",
       "      <td>princetonCerber</td>\n",
       "    </tr>\n",
       "    <tr>\n",
       "      <th>1</th>\n",
       "      <td>1123pJv8jzeFQaCV4w644pzQJzVWay2zcA</td>\n",
       "      <td>2016</td>\n",
       "      <td>132</td>\n",
       "      <td>44</td>\n",
       "      <td>0.000244</td>\n",
       "      <td>1</td>\n",
       "      <td>0</td>\n",
       "      <td>1</td>\n",
       "      <td>100000000</td>\n",
       "      <td>princetonLocky</td>\n",
       "    </tr>\n",
       "    <tr>\n",
       "      <th>2</th>\n",
       "      <td>112536im7hy6wtKbpH1qYDWtTyMRAcA2p7</td>\n",
       "      <td>2016</td>\n",
       "      <td>246</td>\n",
       "      <td>0</td>\n",
       "      <td>1.000000</td>\n",
       "      <td>1</td>\n",
       "      <td>0</td>\n",
       "      <td>2</td>\n",
       "      <td>200000000</td>\n",
       "      <td>princetonCerber</td>\n",
       "    </tr>\n",
       "    <tr>\n",
       "      <th>3</th>\n",
       "      <td>1126eDRw2wqSkWosjTCre8cjjQW8sSeWH7</td>\n",
       "      <td>2016</td>\n",
       "      <td>322</td>\n",
       "      <td>72</td>\n",
       "      <td>0.003906</td>\n",
       "      <td>1</td>\n",
       "      <td>0</td>\n",
       "      <td>2</td>\n",
       "      <td>71200000</td>\n",
       "      <td>princetonCerber</td>\n",
       "    </tr>\n",
       "    <tr>\n",
       "      <th>4</th>\n",
       "      <td>1129TSjKtx65E35GiUo4AYVeyo48twbrGX</td>\n",
       "      <td>2016</td>\n",
       "      <td>238</td>\n",
       "      <td>144</td>\n",
       "      <td>0.072848</td>\n",
       "      <td>456</td>\n",
       "      <td>0</td>\n",
       "      <td>1</td>\n",
       "      <td>200000000</td>\n",
       "      <td>princetonLocky</td>\n",
       "    </tr>\n",
       "  </tbody>\n",
       "</table>\n",
       "</div>"
      ],
      "text/plain": [
       "                              address  year  day  length    weight  count  \\\n",
       "0   111K8kZAEnJg245r2cM6y9zgJGHZtJPy6  2017   11      18  0.008333      1   \n",
       "1  1123pJv8jzeFQaCV4w644pzQJzVWay2zcA  2016  132      44  0.000244      1   \n",
       "2  112536im7hy6wtKbpH1qYDWtTyMRAcA2p7  2016  246       0  1.000000      1   \n",
       "3  1126eDRw2wqSkWosjTCre8cjjQW8sSeWH7  2016  322      72  0.003906      1   \n",
       "4  1129TSjKtx65E35GiUo4AYVeyo48twbrGX  2016  238     144  0.072848    456   \n",
       "\n",
       "   looped  neighbors     income            label  \n",
       "0       0          2  100050000  princetonCerber  \n",
       "1       0          1  100000000   princetonLocky  \n",
       "2       0          2  200000000  princetonCerber  \n",
       "3       0          2   71200000  princetonCerber  \n",
       "4       0          1  200000000   princetonLocky  "
      ]
     },
     "execution_count": 7,
     "metadata": {},
     "output_type": "execute_result"
    }
   ],
   "source": [
    "bitcoin_df.head()"
   ]
  },
  {
   "cell_type": "code",
   "execution_count": 8,
   "id": "bd9c9256-3600-4043-ac94-dc123a6a88ad",
   "metadata": {},
   "outputs": [
    {
     "data": {
      "text/plain": [
       "2631095"
      ]
     },
     "execution_count": 8,
     "metadata": {},
     "output_type": "execute_result"
    }
   ],
   "source": [
    "len(bitcoin_df['address'].unique())"
   ]
  },
  {
   "cell_type": "code",
   "execution_count": 9,
   "id": "71d88966-df06-4e1b-8612-fabd7e089721",
   "metadata": {},
   "outputs": [
    {
     "data": {
      "text/plain": [
       "(8, array([2017, 2016, 2013, 2014, 2015, 2012, 2011, 2018], dtype=int64))"
      ]
     },
     "execution_count": 9,
     "metadata": {},
     "output_type": "execute_result"
    }
   ],
   "source": [
    "len(bitcoin_df['year'].unique()), bitcoin_df['year'].unique()"
   ]
  },
  {
   "cell_type": "code",
   "execution_count": 10,
   "id": "fc110290-2cbf-44a1-bc6f-ab500ce7c659",
   "metadata": {},
   "outputs": [
    {
     "data": {
      "text/plain": [
       "<AxesSubplot:xlabel='year', ylabel='label'>"
      ]
     },
     "execution_count": 10,
     "metadata": {},
     "output_type": "execute_result"
    },
    {
     "data": {
      "image/png": "[encoded data removed]",
      "text/plain": [
       "<Figure size 432x288 with 1 Axes>"
      ]
     },
     "metadata": {
      "needs_background": "light"
     },
     "output_type": "display_data"
    }
   ],
   "source": [
    "sns.displot(data = bitcoin_df, x='year')\n",
    "# sns.barplot(data = bitcoin_df, x='year', y='label')"
   ]
  },
  {
   "cell_type": "code",
   "execution_count": 11,
   "id": "4fe7fb29-820c-407f-b43f-5918fd249e63",
   "metadata": {
    "tags": []
   },
   "outputs": [],
   "source": [
    "# bitcoin_df['year'].plot.bar()"
   ]
  },
  {
   "cell_type": "code",
   "execution_count": 40,
   "id": "5454af88-6309-4a14-a1fb-b81aeca11387",
   "metadata": {
    "collapsed": true,
    "jupyter": {
     "outputs_hidden": true
    },
    "tags": []
   },
   "outputs": [
    {
     "data": {
      "text/html": [
       "<div>\n",
       "<style scoped>\n",
       "    .dataframe tbody tr th:only-of-type {\n",
       "        vertical-align: middle;\n",
       "    }\n",
       "\n",
       "    .dataframe tbody tr th {\n",
       "        vertical-align: top;\n",
       "    }\n",
       "\n",
       "    .dataframe thead tr th {\n",
       "        text-align: left;\n",
       "    }\n",
       "\n",
       "    .dataframe thead tr:last-of-type th {\n",
       "        text-align: right;\n",
       "    }\n",
       "</style>\n",
       "<table border=\"1\" class=\"dataframe\">\n",
       "  <thead>\n",
       "    <tr>\n",
       "      <th></th>\n",
       "      <th colspan=\"8\" halign=\"left\">year</th>\n",
       "      <th colspan=\"2\" halign=\"left\">day</th>\n",
       "      <th>...</th>\n",
       "      <th colspan=\"2\" halign=\"left\">neighbors</th>\n",
       "      <th colspan=\"8\" halign=\"left\">income</th>\n",
       "    </tr>\n",
       "    <tr>\n",
       "      <th></th>\n",
       "      <th>count</th>\n",
       "      <th>mean</th>\n",
       "      <th>std</th>\n",
       "      <th>min</th>\n",
       "      <th>25%</th>\n",
       "      <th>50%</th>\n",
       "      <th>75%</th>\n",
       "      <th>max</th>\n",
       "      <th>count</th>\n",
       "      <th>mean</th>\n",
       "      <th>...</th>\n",
       "      <th>75%</th>\n",
       "      <th>max</th>\n",
       "      <th>count</th>\n",
       "      <th>mean</th>\n",
       "      <th>std</th>\n",
       "      <th>min</th>\n",
       "      <th>25%</th>\n",
       "      <th>50%</th>\n",
       "      <th>75%</th>\n",
       "      <th>max</th>\n",
       "    </tr>\n",
       "    <tr>\n",
       "      <th>label</th>\n",
       "      <th></th>\n",
       "      <th></th>\n",
       "      <th></th>\n",
       "      <th></th>\n",
       "      <th></th>\n",
       "      <th></th>\n",
       "      <th></th>\n",
       "      <th></th>\n",
       "      <th></th>\n",
       "      <th></th>\n",
       "      <th></th>\n",
       "      <th></th>\n",
       "      <th></th>\n",
       "      <th></th>\n",
       "      <th></th>\n",
       "      <th></th>\n",
       "      <th></th>\n",
       "      <th></th>\n",
       "      <th></th>\n",
       "      <th></th>\n",
       "      <th></th>\n",
       "    </tr>\n",
       "  </thead>\n",
       "  <tbody>\n",
       "    <tr>\n",
       "      <th>montrealAPT</th>\n",
       "      <td>11.0</td>\n",
       "      <td>2016.545455</td>\n",
       "      <td>0.522233</td>\n",
       "      <td>2016.0</td>\n",
       "      <td>2016.0</td>\n",
       "      <td>2017.0</td>\n",
       "      <td>2017.0</td>\n",
       "      <td>2017.0</td>\n",
       "      <td>11.0</td>\n",
       "      <td>210.545455</td>\n",
       "      <td>...</td>\n",
       "      <td>3.00</td>\n",
       "      <td>6.0</td>\n",
       "      <td>11.0</td>\n",
       "      <td>3.719873e+08</td>\n",
       "      <td>3.654115e+08</td>\n",
       "      <td>5.714286e+07</td>\n",
       "      <td>1.250000e+08</td>\n",
       "      <td>1.880000e+08</td>\n",
       "      <td>4.818118e+08</td>\n",
       "      <td>1.088599e+09</td>\n",
       "    </tr>\n",
       "    <tr>\n",
       "      <th>montrealComradeCircle</th>\n",
       "      <td>1.0</td>\n",
       "      <td>2016.000000</td>\n",
       "      <td>NaN</td>\n",
       "      <td>2016.0</td>\n",
       "      <td>2016.0</td>\n",
       "      <td>2016.0</td>\n",
       "      <td>2016.0</td>\n",
       "      <td>2016.0</td>\n",
       "      <td>1.0</td>\n",
       "      <td>292.000000</td>\n",
       "      <td>...</td>\n",
       "      <td>2.00</td>\n",
       "      <td>2.0</td>\n",
       "      <td>1.0</td>\n",
       "      <td>2.033200e+08</td>\n",
       "      <td>NaN</td>\n",
       "      <td>2.033200e+08</td>\n",
       "      <td>2.033200e+08</td>\n",
       "      <td>2.033200e+08</td>\n",
       "      <td>2.033200e+08</td>\n",
       "      <td>2.033200e+08</td>\n",
       "    </tr>\n",
       "    <tr>\n",
       "      <th>montrealCryptConsole</th>\n",
       "      <td>7.0</td>\n",
       "      <td>2017.000000</td>\n",
       "      <td>0.000000</td>\n",
       "      <td>2017.0</td>\n",
       "      <td>2017.0</td>\n",
       "      <td>2017.0</td>\n",
       "      <td>2017.0</td>\n",
       "      <td>2017.0</td>\n",
       "      <td>7.0</td>\n",
       "      <td>40.285714</td>\n",
       "      <td>...</td>\n",
       "      <td>2.00</td>\n",
       "      <td>2.0</td>\n",
       "      <td>7.0</td>\n",
       "      <td>4.546334e+07</td>\n",
       "      <td>8.181253e+06</td>\n",
       "      <td>3.000000e+07</td>\n",
       "      <td>4.396725e+07</td>\n",
       "      <td>5.000000e+07</td>\n",
       "      <td>5.000444e+07</td>\n",
       "      <td>5.030000e+07</td>\n",
       "    </tr>\n",
       "    <tr>\n",
       "      <th>montrealCryptXXX</th>\n",
       "      <td>2419.0</td>\n",
       "      <td>2016.000000</td>\n",
       "      <td>0.000000</td>\n",
       "      <td>2016.0</td>\n",
       "      <td>2016.0</td>\n",
       "      <td>2016.0</td>\n",
       "      <td>2016.0</td>\n",
       "      <td>2016.0</td>\n",
       "      <td>2419.0</td>\n",
       "      <td>168.033485</td>\n",
       "      <td>...</td>\n",
       "      <td>2.00</td>\n",
       "      <td>15.0</td>\n",
       "      <td>2419.0</td>\n",
       "      <td>1.355343e+08</td>\n",
       "      <td>6.609604e+07</td>\n",
       "      <td>3.000000e+07</td>\n",
       "      <td>1.200000e+08</td>\n",
       "      <td>1.200000e+08</td>\n",
       "      <td>1.200000e+08</td>\n",
       "      <td>1.080000e+09</td>\n",
       "    </tr>\n",
       "    <tr>\n",
       "      <th>montrealCryptoLocker</th>\n",
       "      <td>9315.0</td>\n",
       "      <td>2013.022544</td>\n",
       "      <td>0.466538</td>\n",
       "      <td>2011.0</td>\n",
       "      <td>2013.0</td>\n",
       "      <td>2013.0</td>\n",
       "      <td>2013.0</td>\n",
       "      <td>2015.0</td>\n",
       "      <td>9315.0</td>\n",
       "      <td>240.618787</td>\n",
       "      <td>...</td>\n",
       "      <td>2.00</td>\n",
       "      <td>79.0</td>\n",
       "      <td>9315.0</td>\n",
       "      <td>1.840825e+09</td>\n",
       "      <td>1.278116e+10</td>\n",
       "      <td>3.000000e+07</td>\n",
       "      <td>7.726919e+07</td>\n",
       "      <td>2.000000e+08</td>\n",
       "      <td>6.996000e+08</td>\n",
       "      <td>4.450000e+11</td>\n",
       "    </tr>\n",
       "    <tr>\n",
       "      <th>montrealCryptoTorLocker2015</th>\n",
       "      <td>55.0</td>\n",
       "      <td>2015.000000</td>\n",
       "      <td>0.192450</td>\n",
       "      <td>2014.0</td>\n",
       "      <td>2015.0</td>\n",
       "      <td>2015.0</td>\n",
       "      <td>2015.0</td>\n",
       "      <td>2016.0</td>\n",
       "      <td>55.0</td>\n",
       "      <td>172.581818</td>\n",
       "      <td>...</td>\n",
       "      <td>13.00</td>\n",
       "      <td>94.0</td>\n",
       "      <td>55.0</td>\n",
       "      <td>6.807846e+08</td>\n",
       "      <td>1.180497e+09</td>\n",
       "      <td>3.000000e+07</td>\n",
       "      <td>1.000000e+08</td>\n",
       "      <td>2.851635e+08</td>\n",
       "      <td>9.550170e+08</td>\n",
       "      <td>6.750939e+09</td>\n",
       "    </tr>\n",
       "    <tr>\n",
       "      <th>montrealDMALocker</th>\n",
       "      <td>251.0</td>\n",
       "      <td>2015.709163</td>\n",
       "      <td>0.455056</td>\n",
       "      <td>2015.0</td>\n",
       "      <td>2015.0</td>\n",
       "      <td>2016.0</td>\n",
       "      <td>2016.0</td>\n",
       "      <td>2016.0</td>\n",
       "      <td>251.0</td>\n",
       "      <td>137.478088</td>\n",
       "      <td>...</td>\n",
       "      <td>2.00</td>\n",
       "      <td>9.0</td>\n",
       "      <td>251.0</td>\n",
       "      <td>8.894276e+08</td>\n",
       "      <td>1.417966e+09</td>\n",
       "      <td>3.143504e+07</td>\n",
       "      <td>2.081260e+08</td>\n",
       "      <td>4.000000e+08</td>\n",
       "      <td>8.954922e+08</td>\n",
       "      <td>1.037286e+10</td>\n",
       "    </tr>\n",
       "    <tr>\n",
       "      <th>montrealDMALockerv3</th>\n",
       "      <td>354.0</td>\n",
       "      <td>2016.454802</td>\n",
       "      <td>0.498658</td>\n",
       "      <td>2016.0</td>\n",
       "      <td>2016.0</td>\n",
       "      <td>2016.0</td>\n",
       "      <td>2017.0</td>\n",
       "      <td>2017.0</td>\n",
       "      <td>354.0</td>\n",
       "      <td>198.833333</td>\n",
       "      <td>...</td>\n",
       "      <td>1.00</td>\n",
       "      <td>5.0</td>\n",
       "      <td>354.0</td>\n",
       "      <td>6.105896e+08</td>\n",
       "      <td>5.611028e+08</td>\n",
       "      <td>3.255600e+07</td>\n",
       "      <td>2.862949e+08</td>\n",
       "      <td>3.999832e+08</td>\n",
       "      <td>9.000000e+08</td>\n",
       "      <td>3.000000e+09</td>\n",
       "    </tr>\n",
       "    <tr>\n",
       "      <th>montrealEDA2</th>\n",
       "      <td>6.0</td>\n",
       "      <td>2016.500000</td>\n",
       "      <td>0.547723</td>\n",
       "      <td>2016.0</td>\n",
       "      <td>2016.0</td>\n",
       "      <td>2016.5</td>\n",
       "      <td>2017.0</td>\n",
       "      <td>2017.0</td>\n",
       "      <td>6.0</td>\n",
       "      <td>141.333333</td>\n",
       "      <td>...</td>\n",
       "      <td>1.75</td>\n",
       "      <td>2.0</td>\n",
       "      <td>6.0</td>\n",
       "      <td>3.785209e+07</td>\n",
       "      <td>1.026306e+07</td>\n",
       "      <td>3.000000e+07</td>\n",
       "      <td>3.000000e+07</td>\n",
       "      <td>3.276164e+07</td>\n",
       "      <td>4.638554e+07</td>\n",
       "      <td>5.158298e+07</td>\n",
       "    </tr>\n",
       "    <tr>\n",
       "      <th>montrealFlyper</th>\n",
       "      <td>9.0</td>\n",
       "      <td>2016.444444</td>\n",
       "      <td>0.881917</td>\n",
       "      <td>2016.0</td>\n",
       "      <td>2016.0</td>\n",
       "      <td>2016.0</td>\n",
       "      <td>2016.0</td>\n",
       "      <td>2018.0</td>\n",
       "      <td>9.0</td>\n",
       "      <td>306.888889</td>\n",
       "      <td>...</td>\n",
       "      <td>2.00</td>\n",
       "      <td>2.0</td>\n",
       "      <td>9.0</td>\n",
       "      <td>4.977736e+07</td>\n",
       "      <td>3.597886e+07</td>\n",
       "      <td>3.003316e+07</td>\n",
       "      <td>3.015624e+07</td>\n",
       "      <td>3.274106e+07</td>\n",
       "      <td>3.446428e+07</td>\n",
       "      <td>1.162654e+08</td>\n",
       "    </tr>\n",
       "    <tr>\n",
       "      <th>montrealGlobe</th>\n",
       "      <td>32.0</td>\n",
       "      <td>2016.125000</td>\n",
       "      <td>0.336011</td>\n",
       "      <td>2016.0</td>\n",
       "      <td>2016.0</td>\n",
       "      <td>2016.0</td>\n",
       "      <td>2016.0</td>\n",
       "      <td>2017.0</td>\n",
       "      <td>32.0</td>\n",
       "      <td>276.687500</td>\n",
       "      <td>...</td>\n",
       "      <td>2.00</td>\n",
       "      <td>4.0</td>\n",
       "      <td>32.0</td>\n",
       "      <td>7.955525e+07</td>\n",
       "      <td>5.460658e+07</td>\n",
       "      <td>3.000000e+07</td>\n",
       "      <td>3.460881e+07</td>\n",
       "      <td>5.005000e+07</td>\n",
       "      <td>1.000000e+08</td>\n",
       "      <td>2.032575e+08</td>\n",
       "    </tr>\n",
       "    <tr>\n",
       "      <th>montrealGlobeImposter</th>\n",
       "      <td>55.0</td>\n",
       "      <td>2015.436364</td>\n",
       "      <td>0.855562</td>\n",
       "      <td>2014.0</td>\n",
       "      <td>2015.0</td>\n",
       "      <td>2015.0</td>\n",
       "      <td>2016.0</td>\n",
       "      <td>2017.0</td>\n",
       "      <td>55.0</td>\n",
       "      <td>216.254545</td>\n",
       "      <td>...</td>\n",
       "      <td>2.00</td>\n",
       "      <td>9.0</td>\n",
       "      <td>55.0</td>\n",
       "      <td>1.076278e+09</td>\n",
       "      <td>1.675463e+09</td>\n",
       "      <td>3.134000e+07</td>\n",
       "      <td>9.980000e+07</td>\n",
       "      <td>2.648800e+08</td>\n",
       "      <td>1.207540e+09</td>\n",
       "      <td>6.700000e+09</td>\n",
       "    </tr>\n",
       "    <tr>\n",
       "      <th>montrealGlobev3</th>\n",
       "      <td>34.0</td>\n",
       "      <td>2016.352941</td>\n",
       "      <td>0.485071</td>\n",
       "      <td>2016.0</td>\n",
       "      <td>2016.0</td>\n",
       "      <td>2016.0</td>\n",
       "      <td>2017.0</td>\n",
       "      <td>2017.0</td>\n",
       "      <td>34.0</td>\n",
       "      <td>222.235294</td>\n",
       "      <td>...</td>\n",
       "      <td>2.00</td>\n",
       "      <td>6.0</td>\n",
       "      <td>34.0</td>\n",
       "      <td>1.199336e+08</td>\n",
       "      <td>6.850128e+07</td>\n",
       "      <td>4.997633e+07</td>\n",
       "      <td>1.000000e+08</td>\n",
       "      <td>1.000000e+08</td>\n",
       "      <td>1.003750e+08</td>\n",
       "      <td>3.900000e+08</td>\n",
       "    </tr>\n",
       "    <tr>\n",
       "      <th>montrealJigSaw</th>\n",
       "      <td>4.0</td>\n",
       "      <td>2016.000000</td>\n",
       "      <td>0.000000</td>\n",
       "      <td>2016.0</td>\n",
       "      <td>2016.0</td>\n",
       "      <td>2016.0</td>\n",
       "      <td>2016.0</td>\n",
       "      <td>2016.0</td>\n",
       "      <td>4.0</td>\n",
       "      <td>208.000000</td>\n",
       "      <td>...</td>\n",
       "      <td>2.00</td>\n",
       "      <td>2.0</td>\n",
       "      <td>4.0</td>\n",
       "      <td>6.462202e+07</td>\n",
       "      <td>5.806893e+07</td>\n",
       "      <td>3.000000e+07</td>\n",
       "      <td>3.225000e+07</td>\n",
       "      <td>3.862500e+07</td>\n",
       "      <td>7.099702e+07</td>\n",
       "      <td>1.512381e+08</td>\n",
       "    </tr>\n",
       "    <tr>\n",
       "      <th>montrealNoobCrypt</th>\n",
       "      <td>483.0</td>\n",
       "      <td>2014.915114</td>\n",
       "      <td>0.620400</td>\n",
       "      <td>2013.0</td>\n",
       "      <td>2015.0</td>\n",
       "      <td>2015.0</td>\n",
       "      <td>2015.0</td>\n",
       "      <td>2016.0</td>\n",
       "      <td>483.0</td>\n",
       "      <td>167.730849</td>\n",
       "      <td>...</td>\n",
       "      <td>1.00</td>\n",
       "      <td>8.0</td>\n",
       "      <td>483.0</td>\n",
       "      <td>2.289132e+08</td>\n",
       "      <td>2.741604e+08</td>\n",
       "      <td>3.099113e+07</td>\n",
       "      <td>6.449872e+07</td>\n",
       "      <td>1.341812e+08</td>\n",
       "      <td>2.689719e+08</td>\n",
       "      <td>1.824800e+09</td>\n",
       "    </tr>\n",
       "    <tr>\n",
       "      <th>montrealRazy</th>\n",
       "      <td>13.0</td>\n",
       "      <td>2014.153846</td>\n",
       "      <td>1.675617</td>\n",
       "      <td>2013.0</td>\n",
       "      <td>2013.0</td>\n",
       "      <td>2013.0</td>\n",
       "      <td>2015.0</td>\n",
       "      <td>2018.0</td>\n",
       "      <td>13.0</td>\n",
       "      <td>271.461538</td>\n",
       "      <td>...</td>\n",
       "      <td>2.00</td>\n",
       "      <td>64.0</td>\n",
       "      <td>13.0</td>\n",
       "      <td>2.282059e+11</td>\n",
       "      <td>7.137336e+11</td>\n",
       "      <td>5.108400e+07</td>\n",
       "      <td>1.000000e+08</td>\n",
       "      <td>4.444440e+08</td>\n",
       "      <td>2.536984e+10</td>\n",
       "      <td>2.595000e+12</td>\n",
       "    </tr>\n",
       "    <tr>\n",
       "      <th>montrealSam</th>\n",
       "      <td>1.0</td>\n",
       "      <td>2016.000000</td>\n",
       "      <td>NaN</td>\n",
       "      <td>2016.0</td>\n",
       "      <td>2016.0</td>\n",
       "      <td>2016.0</td>\n",
       "      <td>2016.0</td>\n",
       "      <td>2016.0</td>\n",
       "      <td>1.0</td>\n",
       "      <td>271.000000</td>\n",
       "      <td>...</td>\n",
       "      <td>3.00</td>\n",
       "      <td>3.0</td>\n",
       "      <td>1.0</td>\n",
       "      <td>2.900000e+09</td>\n",
       "      <td>NaN</td>\n",
       "      <td>2.900000e+09</td>\n",
       "      <td>2.900000e+09</td>\n",
       "      <td>2.900000e+09</td>\n",
       "      <td>2.900000e+09</td>\n",
       "      <td>2.900000e+09</td>\n",
       "    </tr>\n",
       "    <tr>\n",
       "      <th>montrealSamSam</th>\n",
       "      <td>62.0</td>\n",
       "      <td>2016.322581</td>\n",
       "      <td>0.471280</td>\n",
       "      <td>2016.0</td>\n",
       "      <td>2016.0</td>\n",
       "      <td>2016.0</td>\n",
       "      <td>2017.0</td>\n",
       "      <td>2017.0</td>\n",
       "      <td>62.0</td>\n",
       "      <td>221.274194</td>\n",
       "      <td>...</td>\n",
       "      <td>2.00</td>\n",
       "      <td>4.0</td>\n",
       "      <td>62.0</td>\n",
       "      <td>1.078297e+09</td>\n",
       "      <td>1.000718e+09</td>\n",
       "      <td>9.995000e+07</td>\n",
       "      <td>1.700000e+08</td>\n",
       "      <td>6.719750e+08</td>\n",
       "      <td>1.700000e+09</td>\n",
       "      <td>3.800000e+09</td>\n",
       "    </tr>\n",
       "    <tr>\n",
       "      <th>montrealVenusLocker</th>\n",
       "      <td>7.0</td>\n",
       "      <td>2016.857143</td>\n",
       "      <td>0.377964</td>\n",
       "      <td>2016.0</td>\n",
       "      <td>2017.0</td>\n",
       "      <td>2017.0</td>\n",
       "      <td>2017.0</td>\n",
       "      <td>2017.0</td>\n",
       "      <td>7.0</td>\n",
       "      <td>83.428571</td>\n",
       "      <td>...</td>\n",
       "      <td>2.00</td>\n",
       "      <td>2.0</td>\n",
       "      <td>7.0</td>\n",
       "      <td>9.714286e+07</td>\n",
       "      <td>7.559289e+06</td>\n",
       "      <td>8.000000e+07</td>\n",
       "      <td>1.000000e+08</td>\n",
       "      <td>1.000000e+08</td>\n",
       "      <td>1.000000e+08</td>\n",
       "      <td>1.000000e+08</td>\n",
       "    </tr>\n",
       "    <tr>\n",
       "      <th>montrealWannaCry</th>\n",
       "      <td>28.0</td>\n",
       "      <td>2017.000000</td>\n",
       "      <td>0.000000</td>\n",
       "      <td>2017.0</td>\n",
       "      <td>2017.0</td>\n",
       "      <td>2017.0</td>\n",
       "      <td>2017.0</td>\n",
       "      <td>2017.0</td>\n",
       "      <td>28.0</td>\n",
       "      <td>134.035714</td>\n",
       "      <td>...</td>\n",
       "      <td>2.00</td>\n",
       "      <td>4.0</td>\n",
       "      <td>28.0</td>\n",
       "      <td>6.714141e+07</td>\n",
       "      <td>4.611358e+07</td>\n",
       "      <td>3.000000e+07</td>\n",
       "      <td>3.340096e+07</td>\n",
       "      <td>6.223950e+07</td>\n",
       "      <td>9.660380e+07</td>\n",
       "      <td>2.359000e+08</td>\n",
       "    </tr>\n",
       "    <tr>\n",
       "      <th>montrealXLocker</th>\n",
       "      <td>1.0</td>\n",
       "      <td>2017.000000</td>\n",
       "      <td>NaN</td>\n",
       "      <td>2017.0</td>\n",
       "      <td>2017.0</td>\n",
       "      <td>2017.0</td>\n",
       "      <td>2017.0</td>\n",
       "      <td>2017.0</td>\n",
       "      <td>1.0</td>\n",
       "      <td>144.000000</td>\n",
       "      <td>...</td>\n",
       "      <td>1.00</td>\n",
       "      <td>1.0</td>\n",
       "      <td>1.0</td>\n",
       "      <td>1.000000e+08</td>\n",
       "      <td>NaN</td>\n",
       "      <td>1.000000e+08</td>\n",
       "      <td>1.000000e+08</td>\n",
       "      <td>1.000000e+08</td>\n",
       "      <td>1.000000e+08</td>\n",
       "      <td>1.000000e+08</td>\n",
       "    </tr>\n",
       "    <tr>\n",
       "      <th>montrealXLockerv5.0</th>\n",
       "      <td>7.0</td>\n",
       "      <td>2017.000000</td>\n",
       "      <td>0.000000</td>\n",
       "      <td>2017.0</td>\n",
       "      <td>2017.0</td>\n",
       "      <td>2017.0</td>\n",
       "      <td>2017.0</td>\n",
       "      <td>2017.0</td>\n",
       "      <td>7.0</td>\n",
       "      <td>43.142857</td>\n",
       "      <td>...</td>\n",
       "      <td>1.00</td>\n",
       "      <td>2.0</td>\n",
       "      <td>7.0</td>\n",
       "      <td>1.857108e+08</td>\n",
       "      <td>8.997740e+07</td>\n",
       "      <td>9.997569e+07</td>\n",
       "      <td>1.000000e+08</td>\n",
       "      <td>2.000000e+08</td>\n",
       "      <td>2.500000e+08</td>\n",
       "      <td>3.000000e+08</td>\n",
       "    </tr>\n",
       "    <tr>\n",
       "      <th>montrealXTPLocker</th>\n",
       "      <td>8.0</td>\n",
       "      <td>2016.000000</td>\n",
       "      <td>0.000000</td>\n",
       "      <td>2016.0</td>\n",
       "      <td>2016.0</td>\n",
       "      <td>2016.0</td>\n",
       "      <td>2016.0</td>\n",
       "      <td>2016.0</td>\n",
       "      <td>8.0</td>\n",
       "      <td>200.250000</td>\n",
       "      <td>...</td>\n",
       "      <td>1.25</td>\n",
       "      <td>3.0</td>\n",
       "      <td>8.0</td>\n",
       "      <td>2.637434e+08</td>\n",
       "      <td>1.180764e+08</td>\n",
       "      <td>1.999469e+08</td>\n",
       "      <td>2.000000e+08</td>\n",
       "      <td>2.000000e+08</td>\n",
       "      <td>2.575000e+08</td>\n",
       "      <td>5.000000e+08</td>\n",
       "    </tr>\n",
       "    <tr>\n",
       "      <th>paduaCryptoWall</th>\n",
       "      <td>12390.0</td>\n",
       "      <td>2014.260936</td>\n",
       "      <td>0.439163</td>\n",
       "      <td>2014.0</td>\n",
       "      <td>2014.0</td>\n",
       "      <td>2014.0</td>\n",
       "      <td>2015.0</td>\n",
       "      <td>2015.0</td>\n",
       "      <td>12390.0</td>\n",
       "      <td>141.853511</td>\n",
       "      <td>...</td>\n",
       "      <td>2.00</td>\n",
       "      <td>59.0</td>\n",
       "      <td>12390.0</td>\n",
       "      <td>7.016105e+08</td>\n",
       "      <td>2.256098e+09</td>\n",
       "      <td>3.000000e+07</td>\n",
       "      <td>9.990000e+07</td>\n",
       "      <td>2.040000e+08</td>\n",
       "      <td>4.026545e+08</td>\n",
       "      <td>5.371000e+10</td>\n",
       "    </tr>\n",
       "    <tr>\n",
       "      <th>paduaJigsaw</th>\n",
       "      <td>2.0</td>\n",
       "      <td>2016.000000</td>\n",
       "      <td>0.000000</td>\n",
       "      <td>2016.0</td>\n",
       "      <td>2016.0</td>\n",
       "      <td>2016.0</td>\n",
       "      <td>2016.0</td>\n",
       "      <td>2016.0</td>\n",
       "      <td>2.0</td>\n",
       "      <td>130.500000</td>\n",
       "      <td>...</td>\n",
       "      <td>2.00</td>\n",
       "      <td>2.0</td>\n",
       "      <td>2.0</td>\n",
       "      <td>4.839408e+07</td>\n",
       "      <td>9.042589e+06</td>\n",
       "      <td>4.200000e+07</td>\n",
       "      <td>4.519704e+07</td>\n",
       "      <td>4.839408e+07</td>\n",
       "      <td>5.159111e+07</td>\n",
       "      <td>5.478815e+07</td>\n",
       "    </tr>\n",
       "    <tr>\n",
       "      <th>paduaKeRanger</th>\n",
       "      <td>10.0</td>\n",
       "      <td>2016.000000</td>\n",
       "      <td>0.000000</td>\n",
       "      <td>2016.0</td>\n",
       "      <td>2016.0</td>\n",
       "      <td>2016.0</td>\n",
       "      <td>2016.0</td>\n",
       "      <td>2016.0</td>\n",
       "      <td>10.0</td>\n",
       "      <td>71.700000</td>\n",
       "      <td>...</td>\n",
       "      <td>1.00</td>\n",
       "      <td>1.0</td>\n",
       "      <td>10.0</td>\n",
       "      <td>9.999000e+07</td>\n",
       "      <td>3.162278e+04</td>\n",
       "      <td>9.990000e+07</td>\n",
       "      <td>1.000000e+08</td>\n",
       "      <td>1.000000e+08</td>\n",
       "      <td>1.000000e+08</td>\n",
       "      <td>1.000000e+08</td>\n",
       "    </tr>\n",
       "    <tr>\n",
       "      <th>princetonCerber</th>\n",
       "      <td>9223.0</td>\n",
       "      <td>2016.344790</td>\n",
       "      <td>0.475326</td>\n",
       "      <td>2016.0</td>\n",
       "      <td>2016.0</td>\n",
       "      <td>2016.0</td>\n",
       "      <td>2017.0</td>\n",
       "      <td>2017.0</td>\n",
       "      <td>9223.0</td>\n",
       "      <td>182.390545</td>\n",
       "      <td>...</td>\n",
       "      <td>2.00</td>\n",
       "      <td>10.0</td>\n",
       "      <td>9223.0</td>\n",
       "      <td>1.032246e+08</td>\n",
       "      <td>1.996885e+08</td>\n",
       "      <td>3.000000e+07</td>\n",
       "      <td>7.500000e+07</td>\n",
       "      <td>9.000000e+07</td>\n",
       "      <td>1.000519e+08</td>\n",
       "      <td>9.222104e+09</td>\n",
       "    </tr>\n",
       "    <tr>\n",
       "      <th>princetonLocky</th>\n",
       "      <td>6625.0</td>\n",
       "      <td>2016.006038</td>\n",
       "      <td>0.077474</td>\n",
       "      <td>2016.0</td>\n",
       "      <td>2016.0</td>\n",
       "      <td>2016.0</td>\n",
       "      <td>2016.0</td>\n",
       "      <td>2017.0</td>\n",
       "      <td>6625.0</td>\n",
       "      <td>132.915472</td>\n",
       "      <td>...</td>\n",
       "      <td>1.00</td>\n",
       "      <td>10.0</td>\n",
       "      <td>6625.0</td>\n",
       "      <td>2.444200e+08</td>\n",
       "      <td>3.232577e+08</td>\n",
       "      <td>3.000000e+07</td>\n",
       "      <td>1.000000e+08</td>\n",
       "      <td>2.000000e+08</td>\n",
       "      <td>4.000000e+08</td>\n",
       "      <td>1.000000e+10</td>\n",
       "    </tr>\n",
       "    <tr>\n",
       "      <th>white</th>\n",
       "      <td>2875284.0</td>\n",
       "      <td>2014.469223</td>\n",
       "      <td>2.267199</td>\n",
       "      <td>2011.0</td>\n",
       "      <td>2012.0</td>\n",
       "      <td>2014.0</td>\n",
       "      <td>2016.0</td>\n",
       "      <td>2018.0</td>\n",
       "      <td>2875284.0</td>\n",
       "      <td>181.558284</td>\n",
       "      <td>...</td>\n",
       "      <td>2.00</td>\n",
       "      <td>12920.0</td>\n",
       "      <td>2875284.0</td>\n",
       "      <td>4.517914e+09</td>\n",
       "      <td>1.638439e+11</td>\n",
       "      <td>3.000000e+07</td>\n",
       "      <td>7.404454e+07</td>\n",
       "      <td>2.000000e+08</td>\n",
       "      <td>1.000000e+09</td>\n",
       "      <td>4.996440e+13</td>\n",
       "    </tr>\n",
       "  </tbody>\n",
       "</table>\n",
       "<p>29 rows × 64 columns</p>\n",
       "</div>"
      ],
      "text/plain": [
       "                                  year                                         \\\n",
       "                                 count         mean       std     min     25%   \n",
       "label                                                                           \n",
       "montrealAPT                       11.0  2016.545455  0.522233  2016.0  2016.0   \n",
       "montrealComradeCircle              1.0  2016.000000       NaN  2016.0  2016.0   \n",
       "montrealCryptConsole               7.0  2017.000000  0.000000  2017.0  2017.0   \n",
       "montrealCryptXXX                2419.0  2016.000000  0.000000  2016.0  2016.0   \n",
       "montrealCryptoLocker            9315.0  2013.022544  0.466538  2011.0  2013.0   \n",
       "montrealCryptoTorLocker2015       55.0  2015.000000  0.192450  2014.0  2015.0   \n",
       "montrealDMALocker                251.0  2015.709163  0.455056  2015.0  2015.0   \n",
       "montrealDMALockerv3              354.0  2016.454802  0.498658  2016.0  2016.0   \n",
       "montrealEDA2                       6.0  2016.500000  0.547723  2016.0  2016.0   \n",
       "montrealFlyper                     9.0  2016.444444  0.881917  2016.0  2016.0   \n",
       "montrealGlobe                     32.0  2016.125000  0.336011  2016.0  2016.0   \n",
       "montrealGlobeImposter             55.0  2015.436364  0.855562  2014.0  2015.0   \n",
       "montrealGlobev3                   34.0  2016.352941  0.485071  2016.0  2016.0   \n",
       "montrealJigSaw                     4.0  2016.000000  0.000000  2016.0  2016.0   \n",
       "montrealNoobCrypt                483.0  2014.915114  0.620400  2013.0  2015.0   \n",
       "montrealRazy                      13.0  2014.153846  1.675617  2013.0  2013.0   \n",
       "montrealSam                        1.0  2016.000000       NaN  2016.0  2016.0   \n",
       "montrealSamSam                    62.0  2016.322581  0.471280  2016.0  2016.0   \n",
       "montrealVenusLocker                7.0  2016.857143  0.377964  2016.0  2017.0   \n",
       "montrealWannaCry                  28.0  2017.000000  0.000000  2017.0  2017.0   \n",
       "montrealXLocker                    1.0  2017.000000       NaN  2017.0  2017.0   \n",
       "montrealXLockerv5.0                7.0  2017.000000  0.000000  2017.0  2017.0   \n",
       "montrealXTPLocker                  8.0  2016.000000  0.000000  2016.0  2016.0   \n",
       "paduaCryptoWall                12390.0  2014.260936  0.439163  2014.0  2014.0   \n",
       "paduaJigsaw                        2.0  2016.000000  0.000000  2016.0  2016.0   \n",
       "paduaKeRanger                     10.0  2016.000000  0.000000  2016.0  2016.0   \n",
       "princetonCerber                 9223.0  2016.344790  0.475326  2016.0  2016.0   \n",
       "princetonLocky                  6625.0  2016.006038  0.077474  2016.0  2016.0   \n",
       "white                        2875284.0  2014.469223  2.267199  2011.0  2012.0   \n",
       "\n",
       "                                                           day              \\\n",
       "                                50%     75%     max      count        mean   \n",
       "label                                                                        \n",
       "montrealAPT                  2017.0  2017.0  2017.0       11.0  210.545455   \n",
       "montrealComradeCircle        2016.0  2016.0  2016.0        1.0  292.000000   \n",
       "montrealCryptConsole         2017.0  2017.0  2017.0        7.0   40.285714   \n",
       "montrealCryptXXX             2016.0  2016.0  2016.0     2419.0  168.033485   \n",
       "montrealCryptoLocker         2013.0  2013.0  2015.0     9315.0  240.618787   \n",
       "montrealCryptoTorLocker2015  2015.0  2015.0  2016.0       55.0  172.581818   \n",
       "montrealDMALocker            2016.0  2016.0  2016.0      251.0  137.478088   \n",
       "montrealDMALockerv3          2016.0  2017.0  2017.0      354.0  198.833333   \n",
       "montrealEDA2                 2016.5  2017.0  2017.0        6.0  141.333333   \n",
       "montrealFlyper               2016.0  2016.0  2018.0        9.0  306.888889   \n",
       "montrealGlobe                2016.0  2016.0  2017.0       32.0  276.687500   \n",
       "montrealGlobeImposter        2015.0  2016.0  2017.0       55.0  216.254545   \n",
       "montrealGlobev3              2016.0  2017.0  2017.0       34.0  222.235294   \n",
       "montrealJigSaw               2016.0  2016.0  2016.0        4.0  208.000000   \n",
       "montrealNoobCrypt            2015.0  2015.0  2016.0      483.0  167.730849   \n",
       "montrealRazy                 2013.0  2015.0  2018.0       13.0  271.461538   \n",
       "montrealSam                  2016.0  2016.0  2016.0        1.0  271.000000   \n",
       "montrealSamSam               2016.0  2017.0  2017.0       62.0  221.274194   \n",
       "montrealVenusLocker          2017.0  2017.0  2017.0        7.0   83.428571   \n",
       "montrealWannaCry             2017.0  2017.0  2017.0       28.0  134.035714   \n",
       "montrealXLocker              2017.0  2017.0  2017.0        1.0  144.000000   \n",
       "montrealXLockerv5.0          2017.0  2017.0  2017.0        7.0   43.142857   \n",
       "montrealXTPLocker            2016.0  2016.0  2016.0        8.0  200.250000   \n",
       "paduaCryptoWall              2014.0  2015.0  2015.0    12390.0  141.853511   \n",
       "paduaJigsaw                  2016.0  2016.0  2016.0        2.0  130.500000   \n",
       "paduaKeRanger                2016.0  2016.0  2016.0       10.0   71.700000   \n",
       "princetonCerber              2016.0  2017.0  2017.0     9223.0  182.390545   \n",
       "princetonLocky               2016.0  2016.0  2017.0     6625.0  132.915472   \n",
       "white                        2014.0  2016.0  2018.0  2875284.0  181.558284   \n",
       "\n",
       "                             ... neighbors              income                \\\n",
       "                             ...       75%      max      count          mean   \n",
       "label                        ...                                               \n",
       "montrealAPT                  ...      3.00      6.0       11.0  3.719873e+08   \n",
       "montrealComradeCircle        ...      2.00      2.0        1.0  2.033200e+08   \n",
       "montrealCryptConsole         ...      2.00      2.0        7.0  4.546334e+07   \n",
       "montrealCryptXXX             ...      2.00     15.0     2419.0  1.355343e+08   \n",
       "montrealCryptoLocker         ...      2.00     79.0     9315.0  1.840825e+09   \n",
       "montrealCryptoTorLocker2015  ...     13.00     94.0       55.0  6.807846e+08   \n",
       "montrealDMALocker            ...      2.00      9.0      251.0  8.894276e+08   \n",
       "montrealDMALockerv3          ...      1.00      5.0      354.0  6.105896e+08   \n",
       "montrealEDA2                 ...      1.75      2.0        6.0  3.785209e+07   \n",
       "montrealFlyper               ...      2.00      2.0        9.0  4.977736e+07   \n",
       "montrealGlobe                ...      2.00      4.0       32.0  7.955525e+07   \n",
       "montrealGlobeImposter        ...      2.00      9.0       55.0  1.076278e+09   \n",
       "montrealGlobev3              ...      2.00      6.0       34.0  1.199336e+08   \n",
       "montrealJigSaw               ...      2.00      2.0        4.0  6.462202e+07   \n",
       "montrealNoobCrypt            ...      1.00      8.0      483.0  2.289132e+08   \n",
       "montrealRazy                 ...      2.00     64.0       13.0  2.282059e+11   \n",
       "montrealSam                  ...      3.00      3.0        1.0  2.900000e+09   \n",
       "montrealSamSam               ...      2.00      4.0       62.0  1.078297e+09   \n",
       "montrealVenusLocker          ...      2.00      2.0        7.0  9.714286e+07   \n",
       "montrealWannaCry             ...      2.00      4.0       28.0  6.714141e+07   \n",
       "montrealXLocker              ...      1.00      1.0        1.0  1.000000e+08   \n",
       "montrealXLockerv5.0          ...      1.00      2.0        7.0  1.857108e+08   \n",
       "montrealXTPLocker            ...      1.25      3.0        8.0  2.637434e+08   \n",
       "paduaCryptoWall              ...      2.00     59.0    12390.0  7.016105e+08   \n",
       "paduaJigsaw                  ...      2.00      2.0        2.0  4.839408e+07   \n",
       "paduaKeRanger                ...      1.00      1.0       10.0  9.999000e+07   \n",
       "princetonCerber              ...      2.00     10.0     9223.0  1.032246e+08   \n",
       "princetonLocky               ...      1.00     10.0     6625.0  2.444200e+08   \n",
       "white                        ...      2.00  12920.0  2875284.0  4.517914e+09   \n",
       "\n",
       "                                                                       \\\n",
       "                                      std           min           25%   \n",
       "label                                                                   \n",
       "montrealAPT                  3.654115e+08  5.714286e+07  1.250000e+08   \n",
       "montrealComradeCircle                 NaN  2.033200e+08  2.033200e+08   \n",
       "montrealCryptConsole         8.181253e+06  3.000000e+07  4.396725e+07   \n",
       "montrealCryptXXX             6.609604e+07  3.000000e+07  1.200000e+08   \n",
       "montrealCryptoLocker         1.278116e+10  3.000000e+07  7.726919e+07   \n",
       "montrealCryptoTorLocker2015  1.180497e+09  3.000000e+07  1.000000e+08   \n",
       "montrealDMALocker            1.417966e+09  3.143504e+07  2.081260e+08   \n",
       "montrealDMALockerv3          5.611028e+08  3.255600e+07  2.862949e+08   \n",
       "montrealEDA2                 1.026306e+07  3.000000e+07  3.000000e+07   \n",
       "montrealFlyper               3.597886e+07  3.003316e+07  3.015624e+07   \n",
       "montrealGlobe                5.460658e+07  3.000000e+07  3.460881e+07   \n",
       "montrealGlobeImposter        1.675463e+09  3.134000e+07  9.980000e+07   \n",
       "montrealGlobev3              6.850128e+07  4.997633e+07  1.000000e+08   \n",
       "montrealJigSaw               5.806893e+07  3.000000e+07  3.225000e+07   \n",
       "montrealNoobCrypt            2.741604e+08  3.099113e+07  6.449872e+07   \n",
       "montrealRazy                 7.137336e+11  5.108400e+07  1.000000e+08   \n",
       "montrealSam                           NaN  2.900000e+09  2.900000e+09   \n",
       "montrealSamSam               1.000718e+09  9.995000e+07  1.700000e+08   \n",
       "montrealVenusLocker          7.559289e+06  8.000000e+07  1.000000e+08   \n",
       "montrealWannaCry             4.611358e+07  3.000000e+07  3.340096e+07   \n",
       "montrealXLocker                       NaN  1.000000e+08  1.000000e+08   \n",
       "montrealXLockerv5.0          8.997740e+07  9.997569e+07  1.000000e+08   \n",
       "montrealXTPLocker            1.180764e+08  1.999469e+08  2.000000e+08   \n",
       "paduaCryptoWall              2.256098e+09  3.000000e+07  9.990000e+07   \n",
       "paduaJigsaw                  9.042589e+06  4.200000e+07  4.519704e+07   \n",
       "paduaKeRanger                3.162278e+04  9.990000e+07  1.000000e+08   \n",
       "princetonCerber              1.996885e+08  3.000000e+07  7.500000e+07   \n",
       "princetonLocky               3.232577e+08  3.000000e+07  1.000000e+08   \n",
       "white                        1.638439e+11  3.000000e+07  7.404454e+07   \n",
       "\n",
       "                                                                       \n",
       "                                      50%           75%           max  \n",
       "label                                                                  \n",
       "montrealAPT                  1.880000e+08  4.818118e+08  1.088599e+09  \n",
       "montrealComradeCircle        2.033200e+08  2.033200e+08  2.033200e+08  \n",
       "montrealCryptConsole         5.000000e+07  5.000444e+07  5.030000e+07  \n",
       "montrealCryptXXX             1.200000e+08  1.200000e+08  1.080000e+09  \n",
       "montrealCryptoLocker         2.000000e+08  6.996000e+08  4.450000e+11  \n",
       "montrealCryptoTorLocker2015  2.851635e+08  9.550170e+08  6.750939e+09  \n",
       "montrealDMALocker            4.000000e+08  8.954922e+08  1.037286e+10  \n",
       "montrealDMALockerv3          3.999832e+08  9.000000e+08  3.000000e+09  \n",
       "montrealEDA2                 3.276164e+07  4.638554e+07  5.158298e+07  \n",
       "montrealFlyper               3.274106e+07  3.446428e+07  1.162654e+08  \n",
       "montrealGlobe                5.005000e+07  1.000000e+08  2.032575e+08  \n",
       "montrealGlobeImposter        2.648800e+08  1.207540e+09  6.700000e+09  \n",
       "montrealGlobev3              1.000000e+08  1.003750e+08  3.900000e+08  \n",
       "montrealJigSaw               3.862500e+07  7.099702e+07  1.512381e+08  \n",
       "montrealNoobCrypt            1.341812e+08  2.689719e+08  1.824800e+09  \n",
       "montrealRazy                 4.444440e+08  2.536984e+10  2.595000e+12  \n",
       "montrealSam                  2.900000e+09  2.900000e+09  2.900000e+09  \n",
       "montrealSamSam               6.719750e+08  1.700000e+09  3.800000e+09  \n",
       "montrealVenusLocker          1.000000e+08  1.000000e+08  1.000000e+08  \n",
       "montrealWannaCry             6.223950e+07  9.660380e+07  2.359000e+08  \n",
       "montrealXLocker              1.000000e+08  1.000000e+08  1.000000e+08  \n",
       "montrealXLockerv5.0          2.000000e+08  2.500000e+08  3.000000e+08  \n",
       "montrealXTPLocker            2.000000e+08  2.575000e+08  5.000000e+08  \n",
       "paduaCryptoWall              2.040000e+08  4.026545e+08  5.371000e+10  \n",
       "paduaJigsaw                  4.839408e+07  5.159111e+07  5.478815e+07  \n",
       "paduaKeRanger                1.000000e+08  1.000000e+08  1.000000e+08  \n",
       "princetonCerber              9.000000e+07  1.000519e+08  9.222104e+09  \n",
       "princetonLocky               2.000000e+08  4.000000e+08  1.000000e+10  \n",
       "white                        2.000000e+08  1.000000e+09  4.996440e+13  \n",
       "\n",
       "[29 rows x 64 columns]"
      ]
     },
     "execution_count": 40,
     "metadata": {},
     "output_type": "execute_result"
    }
   ],
   "source": [
    "grpby_label = bitcoin_df.groupby('label')\n",
    "grpby_label.describe()"
   ]
  },
  {
   "cell_type": "code",
   "execution_count": 26,
   "id": "ba45efb8-e94d-4aeb-bcc2-6974fe8cd014",
   "metadata": {},
   "outputs": [
    {
     "data": {
      "text/plain": [
       "count    2.916697e+06\n",
       "mean     1.814572e+02\n",
       "std      1.040118e+02\n",
       "min      1.000000e+00\n",
       "25%      9.200000e+01\n",
       "50%      1.810000e+02\n",
       "75%      2.710000e+02\n",
       "max      3.650000e+02\n",
       "Name: day, dtype: float64"
      ]
     },
     "execution_count": 26,
     "metadata": {},
     "output_type": "execute_result"
    }
   ],
   "source": [
    "bitcoin_df['day'].describe()"
   ]
  },
  {
   "cell_type": "code",
   "execution_count": 33,
   "id": "56a4c393-e0ac-43df-bdf2-517ab0412230",
   "metadata": {},
   "outputs": [],
   "source": [
    "# sns.barplot(data = bitcoin_df['day'])"
   ]
  },
  {
   "cell_type": "code",
   "execution_count": 32,
   "id": "b6bec5a7-9112-4e00-9960-fba50597f254",
   "metadata": {
    "collapsed": true,
    "jupyter": {
     "outputs_hidden": true
    },
    "tags": []
   },
   "outputs": [
    {
     "data": {
      "text/plain": [
       "[<matplotlib.lines.Line2D at 0x17e505e3430>,\n",
       " <matplotlib.lines.Line2D at 0x17e505e3ac0>,\n",
       " <matplotlib.lines.Line2D at 0x17e505e3b20>,\n",
       " <matplotlib.lines.Line2D at 0x17e505e3b80>,\n",
       " <matplotlib.lines.Line2D at 0x17e505e3be0>,\n",
       " <matplotlib.lines.Line2D at 0x17e505e37f0>,\n",
       " <matplotlib.lines.Line2D at 0x17e505e3d00>,\n",
       " <matplotlib.lines.Line2D at 0x17e505e3dc0>,\n",
       " <matplotlib.lines.Line2D at 0x17e505e3e50>]"
      ]
     },
     "execution_count": 32,
     "metadata": {},
     "output_type": "execute_result"
    },
    {
     "data": {
      "image/png": "[encoded data removed]",
      "text/plain": [
       "<Figure size 432x288 with 1 Axes>"
      ]
     },
     "metadata": {
      "needs_background": "light"
     },
     "output_type": "display_data"
    }
   ],
   "source": [
    "x = bitcoin_df.groupby('day')\n",
    "plt.plot(x.count())"
   ]
  },
  {
   "cell_type": "code",
   "execution_count": 12,
   "id": "43f05b02-ec05-41bc-9e09-58fa4e6a3282",
   "metadata": {},
   "outputs": [],
   "source": [
    "# bitcoin_df.groupby('ne')"
   ]
  },
  {
   "cell_type": "code",
   "execution_count": 34,
   "id": "8428f3e6-3009-4b99-abf8-ef1190375381",
   "metadata": {
    "collapsed": true,
    "jupyter": {
     "outputs_hidden": true
    },
    "tags": []
   },
   "outputs": [
    {
     "data": {
      "text/plain": [
       "count    2.916697e+06\n",
       "mean     7.216446e+02\n",
       "std      1.689676e+03\n",
       "min      1.000000e+00\n",
       "25%      1.000000e+00\n",
       "50%      1.000000e+00\n",
       "75%      5.600000e+01\n",
       "max      1.449700e+04\n",
       "Name: count, dtype: float64"
      ]
     },
     "execution_count": 34,
     "metadata": {},
     "output_type": "execute_result"
    }
   ],
   "source": [
    "bitcoin_df['count'].describe()"
   ]
  },
  {
   "cell_type": "code",
   "execution_count": 35,
   "id": "252d8e01-dc5d-4b00-b802-af32e511259c",
   "metadata": {
    "collapsed": true,
    "jupyter": {
     "outputs_hidden": true
    },
    "tags": []
   },
   "outputs": [
    {
     "data": {
      "text/plain": [
       "count    2.916697e+06\n",
       "mean     4.500859e+01\n",
       "std      5.898236e+01\n",
       "min      0.000000e+00\n",
       "25%      2.000000e+00\n",
       "50%      8.000000e+00\n",
       "75%      1.080000e+02\n",
       "max      1.440000e+02\n",
       "Name: length, dtype: float64"
      ]
     },
     "execution_count": 35,
     "metadata": {},
     "output_type": "execute_result"
    }
   ],
   "source": [
    "bitcoin_df['length'].describe()"
   ]
  },
  {
   "cell_type": "code",
   "execution_count": 38,
   "id": "19298bcc-599e-4972-b26d-93746b8e4ebf",
   "metadata": {
    "collapsed": true,
    "jupyter": {
     "outputs_hidden": true
    },
    "tags": []
   },
   "outputs": [
    {
     "data": {
      "text/plain": [
       "<AxesSubplot:xlabel='length', ylabel='Count'>"
      ]
     },
     "execution_count": 38,
     "metadata": {},
     "output_type": "execute_result"
    },
    {
     "data": {
      "image/png": "[encoded data removed]",
      "text/plain": [
       "<Figure size 432x288 with 1 Axes>"
      ]
     },
     "metadata": {
      "needs_background": "light"
     },
     "output_type": "display_data"
    }
   ],
   "source": [
    "sns.histplot(bitcoin_df['length'])"
   ]
  },
  {
   "cell_type": "code",
   "execution_count": 36,
   "id": "9345d5a8-462d-44bc-ae16-12b738b38232",
   "metadata": {
    "collapsed": true,
    "jupyter": {
     "outputs_hidden": true
    },
    "tags": []
   },
   "outputs": [
    {
     "data": {
      "text/plain": [
       "count    2.916697e+06\n",
       "mean     2.385067e+02\n",
       "std      9.663217e+02\n",
       "min      0.000000e+00\n",
       "25%      0.000000e+00\n",
       "50%      0.000000e+00\n",
       "75%      0.000000e+00\n",
       "max      1.449600e+04\n",
       "Name: looped, dtype: float64"
      ]
     },
     "execution_count": 36,
     "metadata": {},
     "output_type": "execute_result"
    }
   ],
   "source": [
    "bitcoin_df['looped'].describe()"
   ]
  },
  {
   "cell_type": "code",
   "execution_count": 37,
   "id": "839b725d-7f29-4969-9b47-3821eb0ac110",
   "metadata": {
    "collapsed": true,
    "jupyter": {
     "outputs_hidden": true
    },
    "tags": []
   },
   "outputs": [
    {
     "data": {
      "text/plain": [
       "<AxesSubplot:xlabel='looped', ylabel='Count'>"
      ]
     },
     "execution_count": 37,
     "metadata": {},
     "output_type": "execute_result"
    },
    {
     "data": {
      "image/png": "[encoded data removed]",
      "text/plain": [
       "<Figure size 432x288 with 1 Axes>"
      ]
     },
     "metadata": {
      "needs_background": "light"
     },
     "output_type": "display_data"
    }
   ],
   "source": [
    "sns.histplot(bitcoin_df['looped'])"
   ]
  },
  {
   "cell_type": "code",
   "execution_count": 51,
   "id": "3b2f5c76-5e54-43fb-8722-9e0ef90152ec",
   "metadata": {
    "collapsed": true,
    "jupyter": {
     "outputs_hidden": true
    },
    "tags": []
   },
   "outputs": [
    {
     "data": {
      "text/plain": [
       "[<matplotlib.lines.Line2D at 0x17e3ac08bb0>]"
      ]
     },
     "execution_count": 51,
     "metadata": {},
     "output_type": "execute_result"
    },
    {
     "data": {
      "image/png": "[encoded data removed]",
      "text/plain": [
       "<Figure size 432x288 with 1 Axes>"
      ]
     },
     "metadata": {
      "needs_background": "light"
     },
     "output_type": "display_data"
    }
   ],
   "source": [
    "plt.plot(bitcoin_df['label'] == 'white')"
   ]
  },
  {
   "cell_type": "code",
   "execution_count": 39,
   "id": "b9865b69-f063-423c-8af4-ca5b65d72ec4",
   "metadata": {
    "collapsed": true,
    "jupyter": {
     "outputs_hidden": true
    },
    "tags": []
   },
   "outputs": [
    {
     "data": {
      "text/plain": [
       "(array(['princetonCerber', 'princetonLocky', 'montrealCryptoLocker',\n",
       "        'montrealCryptXXX', 'paduaCryptoWall', 'montrealWannaCry',\n",
       "        'montrealDMALockerv3', 'montrealCryptoTorLocker2015',\n",
       "        'montrealSamSam', 'montrealFlyper', 'montrealNoobCrypt',\n",
       "        'montrealDMALocker', 'montrealGlobe', 'montrealEDA2',\n",
       "        'paduaKeRanger', 'montrealVenusLocker', 'montrealXTPLocker',\n",
       "        'paduaJigsaw', 'montrealGlobev3', 'montrealJigSaw',\n",
       "        'montrealXLockerv5.0', 'montrealXLocker', 'montrealRazy',\n",
       "        'montrealCryptConsole', 'montrealGlobeImposter', 'montrealSam',\n",
       "        'montrealComradeCircle', 'montrealAPT', 'white'], dtype=object),\n",
       " 29)"
      ]
     },
     "execution_count": 39,
     "metadata": {},
     "output_type": "execute_result"
    }
   ],
   "source": [
    "bitcoin_df['label'].unique(), len(bitcoin_df['label'].unique())"
   ]
  },
  {
   "cell_type": "code",
   "execution_count": 8,
   "id": "04030a6b-8c7a-4614-b319-41d639c84bb5",
   "metadata": {},
   "outputs": [],
   "source": [
    "# address_set = []\n",
    "# for i, val in enumerate(bitcoin_df['address']):\n",
    "#     if  val == '1LXrSb67EaH1LGc6d6kWHq8rgv4ZBQAcpU':\n",
    "#         address_set.append(i)\n",
    "        \n",
    "# bitcoin_df['address'][address_set[0]], len(address_set)"
   ]
  },
  {
   "cell_type": "markdown",
   "id": "a97831fd-5f41-4208-9e17-e5e03a3f70a2",
   "metadata": {},
   "source": [
    "## Data pre-processing"
   ]
  },
  {
   "cell_type": "code",
   "execution_count": 9,
   "id": "f5b20b97-d811-4feb-b307-e6629f32ebd8",
   "metadata": {
    "tags": []
   },
   "outputs": [
    {
     "name": "stdout",
     "output_type": "stream",
     "text": [
      "montrealAPT 11\n",
      "\t temp_train size:(8, 10), temp_test size:(3, 10)\n",
      "montrealComradeCircle 1\n",
      "montrealCryptConsole 7\n",
      "\t temp_train size:(5, 10), temp_test size:(2, 10)\n",
      "montrealCryptXXX 2419\n",
      "\t temp_train size:(1935, 10), temp_test size:(484, 10)\n",
      "montrealCryptoLocker 9315\n",
      "\t temp_train size:(7452, 10), temp_test size:(1863, 10)\n",
      "montrealCryptoTorLocker2015 55\n",
      "\t temp_train size:(44, 10), temp_test size:(11, 10)\n",
      "montrealDMALocker 251\n",
      "\t temp_train size:(200, 10), temp_test size:(51, 10)\n",
      "montrealDMALockerv3 354\n",
      "\t temp_train size:(283, 10), temp_test size:(71, 10)\n",
      "montrealEDA2 6\n",
      "\t temp_train size:(4, 10), temp_test size:(2, 10)\n",
      "montrealFlyper 9\n",
      "\t temp_train size:(7, 10), temp_test size:(2, 10)\n",
      "montrealGlobe 32\n",
      "\t temp_train size:(25, 10), temp_test size:(7, 10)\n",
      "montrealGlobeImposter "
     ]
    },
    {
     "name": "stderr",
     "output_type": "stream",
     "text": [
      "/tmp/ipykernel_63268/3719779349.py:19: FutureWarning: The frame.append method is deprecated and will be removed from pandas in a future version. Use pandas.concat instead.\n",
      "  small_sized_labels_df = small_sized_labels_df.append(row[1], ignore_index=True)\n",
      "/tmp/ipykernel_63268/3719779349.py:20: FutureWarning: The frame.append method is deprecated and will be removed from pandas in a future version. Use pandas.concat instead.\n",
      "  train_df = train_df.append(row[1], ignore_index=True)\n",
      "/tmp/ipykernel_63268/3719779349.py:21: FutureWarning: The frame.append method is deprecated and will be removed from pandas in a future version. Use pandas.concat instead.\n",
      "  test_df = test_df.append(row[1], ignore_index=True)\n",
      "/tmp/ipykernel_63268/3719779349.py:19: FutureWarning: The frame.append method is deprecated and will be removed from pandas in a future version. Use pandas.concat instead.\n",
      "  small_sized_labels_df = small_sized_labels_df.append(row[1], ignore_index=True)\n",
      "/tmp/ipykernel_63268/3719779349.py:20: FutureWarning: The frame.append method is deprecated and will be removed from pandas in a future version. Use pandas.concat instead.\n",
      "  train_df = train_df.append(row[1], ignore_index=True)\n",
      "/tmp/ipykernel_63268/3719779349.py:21: FutureWarning: The frame.append method is deprecated and will be removed from pandas in a future version. Use pandas.concat instead.\n",
      "  test_df = test_df.append(row[1], ignore_index=True)\n",
      "/tmp/ipykernel_63268/3719779349.py:19: FutureWarning: The frame.append method is deprecated and will be removed from pandas in a future version. Use pandas.concat instead.\n",
      "  small_sized_labels_df = small_sized_labels_df.append(row[1], ignore_index=True)\n",
      "/tmp/ipykernel_63268/3719779349.py:20: FutureWarning: The frame.append method is deprecated and will be removed from pandas in a future version. Use pandas.concat instead.\n",
      "  train_df = train_df.append(row[1], ignore_index=True)\n",
      "/tmp/ipykernel_63268/3719779349.py:21: FutureWarning: The frame.append method is deprecated and will be removed from pandas in a future version. Use pandas.concat instead.\n",
      "  test_df = test_df.append(row[1], ignore_index=True)\n"
     ]
    },
    {
     "name": "stdout",
     "output_type": "stream",
     "text": [
      "55\n",
      "\t temp_train size:(44, 10), temp_test size:(11, 10)\n",
      "montrealGlobev3 34\n",
      "\t temp_train size:(27, 10), temp_test size:(7, 10)\n",
      "montrealJigSaw 4\n",
      "\t temp_train size:(3, 10), temp_test size:(1, 10)\n",
      "montrealNoobCrypt 483\n",
      "\t temp_train size:(386, 10), temp_test size:(97, 10)\n",
      "montrealRazy 13\n",
      "\t temp_train size:(10, 10), temp_test size:(3, 10)\n",
      "montrealSam 1\n",
      "montrealSamSam 62\n",
      "\t temp_train size:(49, 10), temp_test size:(13, 10)\n",
      "montrealVenusLocker 7\n",
      "\t temp_train size:(5, 10), temp_test size:(2, 10)\n",
      "montrealWannaCry 28\n",
      "\t temp_train size:(22, 10), temp_test size:(6, 10)\n",
      "montrealXLocker 1\n",
      "montrealXLockerv5.0 7\n",
      "\t temp_train size:(5, 10), temp_test size:(2, 10)\n",
      "montrealXTPLocker 8\n",
      "\t temp_train size:(6, 10), temp_test size:(2, 10)\n",
      "paduaCryptoWall 12390\n",
      "\t temp_train size:(9912, 10), temp_test size:(2478, 10)\n",
      "paduaJigsaw 2\n",
      "\t temp_train size:(1, 10), temp_test size:(1, 10)\n",
      "paduaKeRanger 10\n",
      "\t temp_train size:(8, 10), temp_test size:(2, 10)\n",
      "princetonCerber 9223\n",
      "\t temp_train size:(7378, 10), temp_test size:(1845, 10)\n",
      "princetonLocky 6625\n",
      "\t temp_train size:(5300, 10), temp_test size:(1325, 10)\n",
      "white 2875284\n",
      "\t temp_train size:(2300227, 10), temp_test size:(575057, 10)\n",
      "\n",
      "small sized labels:['montrealComradeCircle', 'montrealSam', 'montrealXLocker']\n"
     ]
    },
    {
     "data": {
      "text/html": [
       "<div>\n",
       "<style scoped>\n",
       "    .dataframe tbody tr th:only-of-type {\n",
       "        vertical-align: middle;\n",
       "    }\n",
       "\n",
       "    .dataframe tbody tr th {\n",
       "        vertical-align: top;\n",
       "    }\n",
       "\n",
       "    .dataframe thead th {\n",
       "        text-align: right;\n",
       "    }\n",
       "</style>\n",
       "<table border=\"1\" class=\"dataframe\">\n",
       "  <thead>\n",
       "    <tr style=\"text-align: right;\">\n",
       "      <th></th>\n",
       "      <th>address</th>\n",
       "      <th>year</th>\n",
       "      <th>day</th>\n",
       "      <th>length</th>\n",
       "      <th>weight</th>\n",
       "      <th>count</th>\n",
       "      <th>looped</th>\n",
       "      <th>neighbors</th>\n",
       "      <th>income</th>\n",
       "      <th>label</th>\n",
       "    </tr>\n",
       "  </thead>\n",
       "  <tbody>\n",
       "    <tr>\n",
       "      <th>0</th>\n",
       "      <td>1HssDyDTZj1hVdwhdpF49wLKLPQoCRJB9T</td>\n",
       "      <td>2016</td>\n",
       "      <td>292</td>\n",
       "      <td>144</td>\n",
       "      <td>0.051214</td>\n",
       "      <td>1241</td>\n",
       "      <td>0</td>\n",
       "      <td>2</td>\n",
       "      <td>203320001</td>\n",
       "      <td>montrealComradeCircle</td>\n",
       "    </tr>\n",
       "    <tr>\n",
       "      <th>1</th>\n",
       "      <td>1Ha4Y7QegJL2t577XK6nSUdCYAKKQC99sG</td>\n",
       "      <td>2016</td>\n",
       "      <td>271</td>\n",
       "      <td>6</td>\n",
       "      <td>0.0625</td>\n",
       "      <td>1</td>\n",
       "      <td>1</td>\n",
       "      <td>3</td>\n",
       "      <td>2900000000</td>\n",
       "      <td>montrealSam</td>\n",
       "    </tr>\n",
       "    <tr>\n",
       "      <th>2</th>\n",
       "      <td>1EEHF6uucK2UNtbwxTyAzZ74wNudApYWQm</td>\n",
       "      <td>2017</td>\n",
       "      <td>144</td>\n",
       "      <td>144</td>\n",
       "      <td>0.412207</td>\n",
       "      <td>4511</td>\n",
       "      <td>0</td>\n",
       "      <td>1</td>\n",
       "      <td>100000000</td>\n",
       "      <td>montrealXLocker</td>\n",
       "    </tr>\n",
       "  </tbody>\n",
       "</table>\n",
       "</div>"
      ],
      "text/plain": [
       "                              address  year  day length    weight count  \\\n",
       "0  1HssDyDTZj1hVdwhdpF49wLKLPQoCRJB9T  2016  292    144  0.051214  1241   \n",
       "1  1Ha4Y7QegJL2t577XK6nSUdCYAKKQC99sG  2016  271      6    0.0625     1   \n",
       "2  1EEHF6uucK2UNtbwxTyAzZ74wNudApYWQm  2017  144    144  0.412207  4511   \n",
       "\n",
       "  looped neighbors      income                  label  \n",
       "0      0         2   203320001  montrealComradeCircle  \n",
       "1      1         3  2900000000            montrealSam  \n",
       "2      0         1   100000000        montrealXLocker  "
      ]
     },
     "execution_count": 9,
     "metadata": {},
     "output_type": "execute_result"
    }
   ],
   "source": [
    "## making duplicate row if dataset only has 1 row for given class\n",
    "label_grp_df = bitcoin_df.groupby('label')\n",
    "min_label_size = 2\n",
    "test_size = 0.2\n",
    "small_sized_labels = []\n",
    "small_sized_labels_df = pd.DataFrame(columns=bitcoin_df.columns)\n",
    "# y_df = pd.get_dummies(bitcoin_df.iloc[:,-1])\n",
    "train_df = pd.DataFrame(columns=bitcoin_df.columns)\n",
    "test_df = pd.DataFrame(columns=bitcoin_df.columns)\n",
    "\n",
    "for grp_label, grp in label_grp_df:\n",
    "    grp_size = len(grp)\n",
    "    print(grp_label, grp_size)\n",
    "    if grp_size < min_label_size:\n",
    "        small_sized_labels.append(grp_label)\n",
    "        #print(f'grp:{grp}')\n",
    "        for row in grp.iterrows():\n",
    "            #print('row',row[1])\n",
    "            small_sized_labels_df = small_sized_labels_df.append(row[1], ignore_index=True)\n",
    "            train_df = train_df.append(row[1], ignore_index=True)\n",
    "            test_df = test_df.append(row[1], ignore_index=True)\n",
    "    else:\n",
    "        temp_train, temp_test = train_test_split(grp, test_size=0.2)\n",
    "        print(f'\\t temp_train size:{temp_train.shape}, temp_test size:{temp_test.shape}')\n",
    "        train_df = pd.concat([train_df, temp_train], ignore_index=True)\n",
    "        test_df = pd.concat([test_df, temp_test], ignore_index=True)\n",
    "        \n",
    "print(f'\\nsmall sized labels:{small_sized_labels}')\n",
    "train_df = train_df.sample(frac=1)\n",
    "test_df = test_df.sample(frac=1)\n",
    "small_sized_labels_df"
   ]
  },
  {
   "cell_type": "code",
   "execution_count": 7,
   "id": "ac0de1da-3415-4e48-b48c-31cda1368607",
   "metadata": {
    "collapsed": true,
    "jupyter": {
     "outputs_hidden": true
    },
    "tags": []
   },
   "outputs": [
    {
     "data": {
      "text/plain": [
       "(label\n",
       " montrealAPT                          8\n",
       " montrealComradeCircle                1\n",
       " montrealCryptConsole                 5\n",
       " montrealCryptXXX                  1935\n",
       " montrealCryptoLocker              7452\n",
       " montrealCryptoTorLocker2015         44\n",
       " montrealDMALocker                  200\n",
       " montrealDMALockerv3                283\n",
       " montrealEDA2                         4\n",
       " montrealFlyper                       7\n",
       " montrealGlobe                       25\n",
       " montrealGlobeImposter               44\n",
       " montrealGlobev3                     27\n",
       " montrealJigSaw                       3\n",
       " montrealNoobCrypt                  386\n",
       " montrealRazy                        10\n",
       " montrealSam                          1\n",
       " montrealSamSam                      49\n",
       " montrealVenusLocker                  5\n",
       " montrealWannaCry                    22\n",
       " montrealXLocker                      1\n",
       " montrealXLockerv5.0                  5\n",
       " montrealXTPLocker                    6\n",
       " paduaCryptoWall                   9912\n",
       " paduaJigsaw                          1\n",
       " paduaKeRanger                        8\n",
       " princetonCerber                   7378\n",
       " princetonLocky                    5300\n",
       " white                          2300227\n",
       " Name: label, dtype: int64,\n",
       " 29)"
      ]
     },
     "execution_count": 7,
     "metadata": {},
     "output_type": "execute_result"
    }
   ],
   "source": [
    "train_df.groupby('label')['label'].count(), len(train_df.groupby('label')['label'].count())"
   ]
  },
  {
   "cell_type": "code",
   "execution_count": 8,
   "id": "b083ebb1-6a8b-4865-afdb-d1d9b0c724db",
   "metadata": {
    "collapsed": true,
    "jupyter": {
     "outputs_hidden": true
    },
    "tags": []
   },
   "outputs": [
    {
     "data": {
      "text/plain": [
       "(label\n",
       " montrealAPT                         3\n",
       " montrealComradeCircle               1\n",
       " montrealCryptConsole                2\n",
       " montrealCryptXXX                  484\n",
       " montrealCryptoLocker             1863\n",
       " montrealCryptoTorLocker2015        11\n",
       " montrealDMALocker                  51\n",
       " montrealDMALockerv3                71\n",
       " montrealEDA2                        2\n",
       " montrealFlyper                      2\n",
       " montrealGlobe                       7\n",
       " montrealGlobeImposter              11\n",
       " montrealGlobev3                     7\n",
       " montrealJigSaw                      1\n",
       " montrealNoobCrypt                  97\n",
       " montrealRazy                        3\n",
       " montrealSam                         1\n",
       " montrealSamSam                     13\n",
       " montrealVenusLocker                 2\n",
       " montrealWannaCry                    6\n",
       " montrealXLocker                     1\n",
       " montrealXLockerv5.0                 2\n",
       " montrealXTPLocker                   2\n",
       " paduaCryptoWall                  2478\n",
       " paduaJigsaw                         1\n",
       " paduaKeRanger                       2\n",
       " princetonCerber                  1845\n",
       " princetonLocky                   1325\n",
       " white                          575057\n",
       " Name: label, dtype: int64,\n",
       " 29)"
      ]
     },
     "execution_count": 8,
     "metadata": {},
     "output_type": "execute_result"
    }
   ],
   "source": [
    "test_df.groupby('label')['label'].count(), len(test_df.groupby('label')['label'].count())"
   ]
  },
  {
   "cell_type": "code",
   "execution_count": 109,
   "id": "aff1fe67-ee6e-4993-9d7d-c9f60e118d3d",
   "metadata": {
    "tags": []
   },
   "outputs": [],
   "source": [
    "## concat these copy to main dataset\n",
    "# bitcoin_df = pd.concat([bitcoin_df, small_sized_labels_df], ignore_index=True)\n",
    "# bitcoin_df.tail()"
   ]
  },
  {
   "cell_type": "code",
   "execution_count": 90,
   "id": "7fb85350-3f4c-4c75-8311-3053c98d687e",
   "metadata": {
    "tags": []
   },
   "outputs": [],
   "source": [
    "# from skmultilearn.model_selection import iterative_train_test_split\n",
    "\n",
    "# X = bitcoin_df.iloc[:, 1:9].values\n",
    "# # X = bitcoin_df.iloc[:, 1:9]\n",
    "# y = pd.get_dummies(bitcoin_df.iloc[:,-1]).values\n",
    "# # y = pd.get_dummies(bitcoin_df.iloc[:,-1])\n",
    "\n",
    "# X_train, X_test, y_train, y_test = iterative_train_test_split(X,y, test_size=0.2)\n",
    "# print(f'X_train:{X_train.shape}, y_train:{y_train.shape}\\nX_test:{X_test.shape}, y_test:{y_test.shape}')"
   ]
  },
  {
   "cell_type": "code",
   "execution_count": 125,
   "id": "4e54a8b6-9b88-4dd6-9030-fd7b5bf53a60",
   "metadata": {},
   "outputs": [],
   "source": [
    "# X = bitcoin_df.iloc[:, 1:9].values\n",
    "# X = bitcoin_df.iloc[:, 1:9]\n",
    "# # y = pd.get_dummies(bitcoin_df.iloc[:,-1]).values\n",
    "# y = pd.get_dummies(bitcoin_df.iloc[:,-1])\n",
    "\n",
    "# X_train, X_test, y_train, y_test = train_test_split(X,y, test_size=0.2, stratify=y, random_state=50)\n",
    "# print(f'X_train:{X_train.shape}, y_train:{y_train.shape}\\nX_test:{X_test.shape}, y_test:{y_test.shape}')"
   ]
  },
  {
   "cell_type": "code",
   "execution_count": 10,
   "id": "e90147eb-8638-4045-8112-e011c2696fd2",
   "metadata": {
    "tags": []
   },
   "outputs": [],
   "source": [
    "X_train = train_df.iloc[:, 1:9]\n",
    "y_train = pd.get_dummies(train_df.iloc[:,-1])\n",
    "X_test = test_df.iloc[:, 1:9]\n",
    "y_test = pd.get_dummies(test_df.iloc[:,-1])"
   ]
  },
  {
   "cell_type": "code",
   "execution_count": 12,
   "id": "57676d7c-9b13-41f8-a10b-3a187051e0ac",
   "metadata": {
    "tags": []
   },
   "outputs": [],
   "source": [
    "# X_train"
   ]
  },
  {
   "cell_type": "code",
   "execution_count": 13,
   "id": "8c21fdae-16d7-4969-ab99-64cfdb33fa69",
   "metadata": {
    "tags": []
   },
   "outputs": [],
   "source": [
    "# y_train"
   ]
  },
  {
   "cell_type": "code",
   "execution_count": 14,
   "id": "3bb6c077-b502-48e7-a315-71ef0a77b161",
   "metadata": {
    "tags": []
   },
   "outputs": [],
   "source": [
    "# X_test"
   ]
  },
  {
   "cell_type": "code",
   "execution_count": 15,
   "id": "b2a47931-8104-4209-8ee6-5c3a6b658b9c",
   "metadata": {
    "tags": []
   },
   "outputs": [],
   "source": [
    "# y_test"
   ]
  },
  {
   "cell_type": "code",
   "execution_count": 16,
   "id": "b2508d15-1838-4652-a3c5-14a18921390e",
   "metadata": {},
   "outputs": [],
   "source": [
    "sc = StandardScaler()\n",
    "X_train = sc.fit_transform(X_train)\n",
    "X_test = sc.transform(X_test)"
   ]
  },
  {
   "cell_type": "code",
   "execution_count": null,
   "id": "d7ab3e39-df3e-4524-a009-9bfae0910ff2",
   "metadata": {},
   "outputs": [],
   "source": []
  },
  {
   "cell_type": "code",
   "execution_count": 21,
   "id": "235dcc73-9c7a-4034-bbb8-c5f9b1d322d2",
   "metadata": {},
   "outputs": [
    {
     "name": "stdout",
     "output_type": "stream",
     "text": [
      "Number of estimator: 5\n",
      "Max depth: 5\n",
      "Test accuracy: 0.985782144883612\n",
      "--------------------\n",
      "Number of estimator: 5\n",
      "Max depth: 10\n",
      "Test accuracy: 0.9858507142355117\n",
      "--------------------\n",
      "Number of estimator: 5\n",
      "Max depth: 16\n",
      "Test accuracy: 0.9864644099350134\n",
      "--------------------\n",
      "Number of estimator: 5\n",
      "Max depth: 20\n",
      "Test accuracy: 0.9876506597228769\n",
      "--------------------\n",
      "Number of estimator: 10\n",
      "Max depth: 5\n",
      "Test accuracy: 0.985782144883612\n",
      "--------------------\n",
      "Number of estimator: 10\n",
      "Max depth: 10\n",
      "Test accuracy: 0.9858078583905745\n",
      "--------------------\n",
      "Number of estimator: 10\n",
      "Max depth: 16\n",
      "Test accuracy: 0.986532979286913\n",
      "--------------------\n",
      "Number of estimator: 10\n",
      "Max depth: 20\n",
      "Test accuracy: 0.9878357969730059\n",
      "--------------------\n",
      "Number of estimator: 20\n",
      "Max depth: 5\n",
      "Test accuracy: 0.985782144883612\n",
      "--------------------\n",
      "Number of estimator: 20\n",
      "Max depth: 10\n",
      "Test accuracy: 0.9857872875850046\n",
      "--------------------\n",
      "Number of estimator: 20\n",
      "Max depth: 16\n",
      "Test accuracy: 0.9862981292566568\n",
      "--------------------\n",
      "Number of estimator: 20\n",
      "Max depth: 20\n",
      "Test accuracy: 0.9879403652346529\n",
      "--------------------\n",
      "Number of estimator: 40\n",
      "Max depth: 5\n",
      "Test accuracy: 0.985782144883612\n",
      "--------------------\n",
      "Number of estimator: 40\n",
      "Max depth: 10\n",
      "Test accuracy: 0.9857941445201945\n",
      "--------------------\n",
      "Number of estimator: 40\n",
      "Max depth: 16\n",
      "Test accuracy: 0.986260416113112\n",
      "--------------------\n",
      "Number of estimator: 40\n",
      "Max depth: 20\n",
      "Test accuracy: 0.987839225440601\n",
      "--------------------\n"
     ]
    }
   ],
   "source": [
    "n_estimators_list = [5, 10, 20, 40]\n",
    "max_depth_list = [5, 10, 16, 20]\n",
    "results = np.zeros((4,4))\n",
    "\n",
    "for i, n_est in enumerate(n_estimators_list):\n",
    "    for j,max_depth in enumerate(max_depth_list):\n",
    "        print('Number of estimator:',n_est)\n",
    "        print('Max depth:', max_depth)\n",
    "        clf = RandomForestClassifier(n_estimators=n_est, max_depth=max_depth, random_state=0)\n",
    "        clf.fit(X_train, y_train)\n",
    "        y_test_pred = clf.predict(X_test)\n",
    "        results[i,j] = accuracy_score(y_test, y_test_pred)\n",
    "        print('Test accuracy:', results[i,j])\n",
    "        print('-'*20)"
   ]
  },
  {
   "cell_type": "code",
   "execution_count": null,
   "id": "70217e01-cd72-4eeb-ad8f-a2a80d680ac0",
   "metadata": {},
   "outputs": [],
   "source": []
  },
  {
   "cell_type": "code",
   "execution_count": 29,
   "id": "939b661e-f689-430a-a3f8-2ef43b2f606c",
   "metadata": {},
   "outputs": [
    {
     "name": "stdout",
     "output_type": "stream",
     "text": [
      "best n est: 20 best depth: 20\n"
     ]
    },
    {
     "data": {
      "text/plain": [
       "RandomForestClassifier(max_depth=20, n_estimators=20, random_state=0)"
      ]
     },
     "execution_count": 29,
     "metadata": {},
     "output_type": "execute_result"
    }
   ],
   "source": [
    "best_n_est = 20\n",
    "best_max_depth = 20\n",
    "print('best n est:', best_n_est, 'best depth:',best_max_depth)\n",
    "clf = RandomForestClassifier(n_estimators=best_n_est, max_depth=best_max_depth, random_state=0)\n",
    "clf.fit(X_train, y_train)"
   ]
  },
  {
   "cell_type": "code",
   "execution_count": null,
   "id": "7d50b6c0-7a30-4c92-b2a5-3e45a45a2cce",
   "metadata": {},
   "outputs": [],
   "source": [
    "# clf = RandomForestClassifier(n_estimators=20, max_depth=20, random_state=0)"
   ]
  },
  {
   "cell_type": "code",
   "execution_count": null,
   "id": "afc8bda0-0df3-45a0-bf9c-b5cbcc637f25",
   "metadata": {},
   "outputs": [],
   "source": [
    "# %%time\n",
    "# clf.fit(X_train, y_train)"
   ]
  },
  {
   "cell_type": "code",
   "execution_count": 30,
   "id": "7c0c101a-0134-4b4e-8522-5b8b0e0b325c",
   "metadata": {},
   "outputs": [
    {
     "name": "stdout",
     "output_type": "stream",
     "text": [
      "CPU times: user 2min 59s, sys: 6.83 s, total: 3min 6s\n",
      "Wall time: 3min 6s\n"
     ]
    },
    {
     "data": {
      "text/plain": [
       "0.9904613497595087"
      ]
     },
     "execution_count": 30,
     "metadata": {},
     "output_type": "execute_result"
    }
   ],
   "source": [
    "%%time\n",
    "y_train_pred = clf.predict(X_train)\n",
    "accuracy_score(y_train, y_train_pred)"
   ]
  },
  {
   "cell_type": "code",
   "execution_count": 31,
   "id": "8ed0ec6c-6752-422f-88e5-7ca26c513846",
   "metadata": {},
   "outputs": [
    {
     "name": "stdout",
     "output_type": "stream",
     "text": [
      "CPU times: user 41 s, sys: 1.35 s, total: 42.4 s\n",
      "Wall time: 42.4 s\n"
     ]
    },
    {
     "data": {
      "text/plain": [
       "0.9879403652346529"
      ]
     },
     "execution_count": 31,
     "metadata": {},
     "output_type": "execute_result"
    }
   ],
   "source": [
    "%%time\n",
    "y_test_pred = clf.predict(X_test)\n",
    "accuracy_score(y_test, y_test_pred)"
   ]
  },
  {
   "cell_type": "code",
   "execution_count": 32,
   "id": "d2b4a0a7-e24a-4a7a-a340-5fd2f8b1ed34",
   "metadata": {},
   "outputs": [],
   "source": [
    "# np.sum(y_test_pred, axis=0)"
   ]
  },
  {
   "cell_type": "code",
   "execution_count": 33,
   "id": "a7e3b8f1-e7cd-4c83-a70f-828e28edfc2a",
   "metadata": {
    "tags": []
   },
   "outputs": [],
   "source": [
    "y_test_linear = [row[1].argmax() for row in y_test.iterrows()]\n",
    "y_train_linear = [row[1].argmax() for row in y_train.iterrows()]\n",
    "y_test_pred_linear = [row.argmax() for row in y_test_pred]\n",
    "y_train_pred_linear = [row.argmax() for row in y_train_pred]\n",
    "# y_test_linear[:20]\n",
    "# y_test_pred_linear"
   ]
  },
  {
   "cell_type": "code",
   "execution_count": 34,
   "id": "fe3df4cf-d538-48fe-9444-9f45e74ba8be",
   "metadata": {},
   "outputs": [],
   "source": [
    "train_cnf_matrix = confusion_matrix(y_train_linear, y_train_pred_linear)"
   ]
  },
  {
   "cell_type": "code",
   "execution_count": 35,
   "id": "3102179f-7523-4935-987c-2efabaff4498",
   "metadata": {},
   "outputs": [],
   "source": [
    "test_conf_matrix = confusion_matrix(y_test_linear, y_test_pred_linear)"
   ]
  },
  {
   "cell_type": "code",
   "execution_count": 38,
   "id": "042bf046-8926-4409-9333-9a5de96de69f",
   "metadata": {},
   "outputs": [
    {
     "data": {
      "image/png": "[encoded data removed]",
      "text/plain": [
       "<Figure size 1080x864 with 2 Axes>"
      ]
     },
     "metadata": {
      "needs_background": "light"
     },
     "output_type": "display_data"
    }
   ],
   "source": [
    "plt.figure(figsize=(15,12))\n",
    "train_cnf_df = pd.DataFrame(train_cnf_matrix, index= range(29), columns=range(29))\n",
    "sns.heatmap(np.log(train_cnf_df+1), annot=True)\n",
    "plt.xlabel('Predicted Values')\n",
    "plt.ylabel('Actual Values')\n",
    "plt.title(\"Log Correlation matrix of train\")\n",
    "plt.savefig('rf_bitcoin_conf_mat_train.png')"
   ]
  },
  {
   "cell_type": "code",
   "execution_count": 39,
   "id": "6849566e-78f3-45ac-ba0e-338e52210f62",
   "metadata": {},
   "outputs": [
    {
     "data": {
      "image/png": "[encoded data removed]",
      "text/plain": [
       "<Figure size 1080x864 with 2 Axes>"
      ]
     },
     "metadata": {
      "needs_background": "light"
     },
     "output_type": "display_data"
    }
   ],
   "source": [
    "plt.figure(figsize=(15,12))\n",
    "test_cnf_df = pd.DataFrame(test_conf_matrix, index= range(29), columns=range(29))\n",
    "sns.heatmap(np.log(test_cnf_df+1), annot=True)\n",
    "plt.xlabel('Predicted Values')\n",
    "plt.ylabel('Actual Values')\n",
    "plt.title(\"Log Correlation matrix of test\")\n",
    "plt.savefig('rf_bitcoin_conf_mat_test.png')"
   ]
  },
  {
   "cell_type": "code",
   "execution_count": null,
   "id": "ad93c62a-bf48-4306-9323-91bfd6fed82a",
   "metadata": {},
   "outputs": [],
   "source": []
  }
 ],
 "metadata": {
  "kernelspec": {
   "display_name": "Python 3 (ipykernel)",
   "language": "python",
   "name": "python3"
  },
  "language_info": {
   "codemirror_mode": {
    "name": "ipython",
    "version": 3
   },
   "file_extension": ".py",
   "mimetype": "text/x-python",
   "name": "python",
   "nbconvert_exporter": "python",
   "pygments_lexer": "ipython3",
   "version": "3.9.12"
  },
  "toc-autonumbering": false,
  "toc-showcode": false,
  "toc-showmarkdowntxt": false,
  "toc-showtags": false
 },
 "nbformat": 4,
 "nbformat_minor": 5
}
