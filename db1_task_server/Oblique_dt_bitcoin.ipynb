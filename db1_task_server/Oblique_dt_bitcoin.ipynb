{
 "cells": [
  {
   "cell_type": "code",
   "execution_count": 5,
   "id": "fca429c4-8f69-4e7b-b8fe-8e4217c4478b",
   "metadata": {},
   "outputs": [],
   "source": [
    "# from pytorch_tabnet.tab_model import TabNetClassifier, TabNetRegressor\n",
    "from sklearn.model_selection import train_test_split\n",
    "from sklearn.preprocessing import StandardScaler\n",
    "from sklearn.metrics import classification_report, confusion_matrix, accuracy_score\n",
    "import pandas as pd\n",
    "import numpy as np\n",
    "import arff\n",
    "import matplotlib.pyplot as plt\n",
    "import seaborn as sns"
   ]
  },
  {
   "cell_type": "code",
   "execution_count": 6,
   "id": "9c797e8c-575f-456c-856c-cf576b2d3ed4",
   "metadata": {},
   "outputs": [
    {
     "data": {
      "text/html": [
       "<div>\n",
       "<style scoped>\n",
       "    .dataframe tbody tr th:only-of-type {\n",
       "        vertical-align: middle;\n",
       "    }\n",
       "\n",
       "    .dataframe tbody tr th {\n",
       "        vertical-align: top;\n",
       "    }\n",
       "\n",
       "    .dataframe thead th {\n",
       "        text-align: right;\n",
       "    }\n",
       "</style>\n",
       "<table border=\"1\" class=\"dataframe\">\n",
       "  <thead>\n",
       "    <tr style=\"text-align: right;\">\n",
       "      <th></th>\n",
       "      <th>address</th>\n",
       "      <th>year</th>\n",
       "      <th>day</th>\n",
       "      <th>length</th>\n",
       "      <th>weight</th>\n",
       "      <th>count</th>\n",
       "      <th>looped</th>\n",
       "      <th>neighbors</th>\n",
       "      <th>income</th>\n",
       "      <th>label</th>\n",
       "    </tr>\n",
       "  </thead>\n",
       "  <tbody>\n",
       "    <tr>\n",
       "      <th>0</th>\n",
       "      <td>111K8kZAEnJg245r2cM6y9zgJGHZtJPy6</td>\n",
       "      <td>2017</td>\n",
       "      <td>11</td>\n",
       "      <td>18</td>\n",
       "      <td>0.008333</td>\n",
       "      <td>1</td>\n",
       "      <td>0</td>\n",
       "      <td>2</td>\n",
       "      <td>100050000</td>\n",
       "      <td>princetonCerber</td>\n",
       "    </tr>\n",
       "    <tr>\n",
       "      <th>1</th>\n",
       "      <td>1123pJv8jzeFQaCV4w644pzQJzVWay2zcA</td>\n",
       "      <td>2016</td>\n",
       "      <td>132</td>\n",
       "      <td>44</td>\n",
       "      <td>0.000244</td>\n",
       "      <td>1</td>\n",
       "      <td>0</td>\n",
       "      <td>1</td>\n",
       "      <td>100000000</td>\n",
       "      <td>princetonLocky</td>\n",
       "    </tr>\n",
       "    <tr>\n",
       "      <th>2</th>\n",
       "      <td>112536im7hy6wtKbpH1qYDWtTyMRAcA2p7</td>\n",
       "      <td>2016</td>\n",
       "      <td>246</td>\n",
       "      <td>0</td>\n",
       "      <td>1.000000</td>\n",
       "      <td>1</td>\n",
       "      <td>0</td>\n",
       "      <td>2</td>\n",
       "      <td>200000000</td>\n",
       "      <td>princetonCerber</td>\n",
       "    </tr>\n",
       "    <tr>\n",
       "      <th>3</th>\n",
       "      <td>1126eDRw2wqSkWosjTCre8cjjQW8sSeWH7</td>\n",
       "      <td>2016</td>\n",
       "      <td>322</td>\n",
       "      <td>72</td>\n",
       "      <td>0.003906</td>\n",
       "      <td>1</td>\n",
       "      <td>0</td>\n",
       "      <td>2</td>\n",
       "      <td>71200000</td>\n",
       "      <td>princetonCerber</td>\n",
       "    </tr>\n",
       "    <tr>\n",
       "      <th>4</th>\n",
       "      <td>1129TSjKtx65E35GiUo4AYVeyo48twbrGX</td>\n",
       "      <td>2016</td>\n",
       "      <td>238</td>\n",
       "      <td>144</td>\n",
       "      <td>0.072848</td>\n",
       "      <td>456</td>\n",
       "      <td>0</td>\n",
       "      <td>1</td>\n",
       "      <td>200000000</td>\n",
       "      <td>princetonLocky</td>\n",
       "    </tr>\n",
       "  </tbody>\n",
       "</table>\n",
       "</div>"
      ],
      "text/plain": [
       "                              address  year  day  length    weight  count  \\\n",
       "0   111K8kZAEnJg245r2cM6y9zgJGHZtJPy6  2017   11      18  0.008333      1   \n",
       "1  1123pJv8jzeFQaCV4w644pzQJzVWay2zcA  2016  132      44  0.000244      1   \n",
       "2  112536im7hy6wtKbpH1qYDWtTyMRAcA2p7  2016  246       0  1.000000      1   \n",
       "3  1126eDRw2wqSkWosjTCre8cjjQW8sSeWH7  2016  322      72  0.003906      1   \n",
       "4  1129TSjKtx65E35GiUo4AYVeyo48twbrGX  2016  238     144  0.072848    456   \n",
       "\n",
       "   looped  neighbors     income            label  \n",
       "0       0          2  100050000  princetonCerber  \n",
       "1       0          1  100000000   princetonLocky  \n",
       "2       0          2  200000000  princetonCerber  \n",
       "3       0          2   71200000  princetonCerber  \n",
       "4       0          1  200000000   princetonLocky  "
      ]
     },
     "execution_count": 6,
     "metadata": {},
     "output_type": "execute_result"
    }
   ],
   "source": [
    "bitcoin_db_path = '../BitcoinHeist_Ransomware/dataset.arff'\n",
    "bitcoin_data = arff.load(open(bitcoin_db_path,'r'))\n",
    "\n",
    "bitcoin_columns = [c[0] for c in bitcoin_data['attributes']]\n",
    "bitcoin_columns\n",
    "\n",
    "bitcoin_df = pd.DataFrame(bitcoin_data['data'], columns=bitcoin_columns)\n",
    "bitcoin_df.shape\n",
    "\n",
    "# y_labels = bitcoin_df['label'] == 'white'\n",
    "# bitcoin_df['y'] = y_labels.astype('int')\n",
    "\n",
    "bitcoin_df.head()"
   ]
  },
  {
   "cell_type": "code",
   "execution_count": 2,
   "id": "64c19cca-3b0d-4e4e-9018-f3076106d899",
   "metadata": {},
   "outputs": [
    {
     "ename": "NameError",
     "evalue": "name 'bitcoin_df' is not defined",
     "output_type": "error",
     "traceback": [
      "\u001b[0;31m---------------------------------------------------------------------------\u001b[0m",
      "\u001b[0;31mNameError\u001b[0m                                 Traceback (most recent call last)",
      "Input \u001b[0;32mIn [2]\u001b[0m, in \u001b[0;36m<cell line: 2>\u001b[0;34m()\u001b[0m\n\u001b[1;32m      1\u001b[0m \u001b[38;5;66;03m## making duplicate row if dataset only has 1 row for given class\u001b[39;00m\n\u001b[0;32m----> 2\u001b[0m label_grp_df \u001b[38;5;241m=\u001b[39m \u001b[43mbitcoin_df\u001b[49m\u001b[38;5;241m.\u001b[39mgroupby(\u001b[38;5;124m'\u001b[39m\u001b[38;5;124mlabel\u001b[39m\u001b[38;5;124m'\u001b[39m)\n\u001b[1;32m      3\u001b[0m min_label_size \u001b[38;5;241m=\u001b[39m \u001b[38;5;241m2\u001b[39m\n\u001b[1;32m      4\u001b[0m test_size \u001b[38;5;241m=\u001b[39m \u001b[38;5;241m0.2\u001b[39m\n",
      "\u001b[0;31mNameError\u001b[0m: name 'bitcoin_df' is not defined"
     ]
    }
   ],
   "source": [
    "## making duplicate row if dataset only has 1 row for given class\n",
    "label_grp_df = bitcoin_df.groupby('label')\n",
    "min_label_size = 2\n",
    "test_size = 0.2\n",
    "small_sized_labels = []\n",
    "small_sized_labels_df = pd.DataFrame(columns=bitcoin_df.columns)\n",
    "# y_df = pd.get_dummies(bitcoin_df.iloc[:,-1])\n",
    "train_df = pd.DataFrame(columns=bitcoin_df.columns)\n",
    "test_df = pd.DataFrame(columns=bitcoin_df.columns)\n",
    "\n",
    "for grp_label, grp in label_grp_df:\n",
    "    grp_size = len(grp)\n",
    "    print(grp_label, grp_size)\n",
    "    if grp_size < min_label_size:\n",
    "        small_sized_labels.append(grp_label)\n",
    "        #print(f'grp:{grp}')\n",
    "        for row in grp.iterrows():\n",
    "            #print('row',row[1])\n",
    "            small_sized_labels_df = small_sized_labels_df.append(row[1], ignore_index=True)\n",
    "            train_df = train_df.append(row[1], ignore_index=True)\n",
    "            test_df = test_df.append(row[1], ignore_index=True)\n",
    "    else:\n",
    "        temp_train, temp_test = train_test_split(grp, test_size=0.2)\n",
    "        print(f'\\t temp_train size:{temp_train.shape}, temp_test size:{temp_test.shape}')\n",
    "        train_df = pd.concat([train_df, temp_train], ignore_index=True)\n",
    "        test_df = pd.concat([test_df, temp_test], ignore_index=True)\n",
    "        \n",
    "print(f'\\nsmall sized labels:{small_sized_labels}')\n",
    "train_df = train_df.sample(frac=1)\n",
    "test_df = test_df.sample(frac=1)\n",
    "small_sized_labels_df"
   ]
  },
  {
   "cell_type": "code",
   "execution_count": 3,
   "id": "3e773616-331c-4f12-9946-0cf5bdcddda7",
   "metadata": {},
   "outputs": [
    {
     "ename": "NameError",
     "evalue": "name 'train_df' is not defined",
     "output_type": "error",
     "traceback": [
      "\u001b[0;31m---------------------------------------------------------------------------\u001b[0m",
      "\u001b[0;31mNameError\u001b[0m                                 Traceback (most recent call last)",
      "Input \u001b[0;32mIn [3]\u001b[0m, in \u001b[0;36m<cell line: 1>\u001b[0;34m()\u001b[0m\n\u001b[0;32m----> 1\u001b[0m X_train \u001b[38;5;241m=\u001b[39m \u001b[43mtrain_df\u001b[49m\u001b[38;5;241m.\u001b[39miloc[:, \u001b[38;5;241m1\u001b[39m:\u001b[38;5;241m9\u001b[39m]\n\u001b[1;32m      2\u001b[0m y_train \u001b[38;5;241m=\u001b[39m pd\u001b[38;5;241m.\u001b[39mget_dummies(train_df\u001b[38;5;241m.\u001b[39miloc[:,\u001b[38;5;241m-\u001b[39m\u001b[38;5;241m1\u001b[39m])\n\u001b[1;32m      3\u001b[0m X_test \u001b[38;5;241m=\u001b[39m test_df\u001b[38;5;241m.\u001b[39miloc[:, \u001b[38;5;241m1\u001b[39m:\u001b[38;5;241m9\u001b[39m]\n",
      "\u001b[0;31mNameError\u001b[0m: name 'train_df' is not defined"
     ]
    }
   ],
   "source": [
    "X_train = train_df.iloc[:, 1:9]\n",
    "y_train = pd.get_dummies(train_df.iloc[:,-1])\n",
    "X_test = test_df.iloc[:, 1:9]\n",
    "y_test = pd.get_dummies(test_df.iloc[:,-1])\n",
    "\n",
    "sc = StandardScaler()\n",
    "X_train = sc.fit_transform(X_train)\n",
    "X_test = sc.transform(X_test)"
   ]
  },
  {
   "cell_type": "code",
   "execution_count": 13,
   "id": "ab30d33a-d83e-4da5-b233-dafa2ad6d9bb",
   "metadata": {
    "tags": []
   },
   "outputs": [
    {
     "name": "stdout",
     "output_type": "stream",
     "text": [
      "Wall time: 0 ns\n"
     ]
    }
   ],
   "source": [
    "%%time\n",
    "from sklearn.ensemble import BaggingRegressor, BaggingClassifier\n",
    "from sklearn.model_selection import cross_val_score\n",
    "\n",
    "from scikit_obliquetree.HHCART import HouseHolderCART, HHCARTNode\n",
    "from scikit_obliquetree.segmentor import MSE, MeanSegmentor, ABCMeta\n",
    "\n",
    "\n",
    "# clf = BaggingClassifier(\n",
    "#         HHCARTNode(ABCMeta(), MeanSegmentor(), max_depth=3),\n",
    "#         n_estimators=100,\n",
    "#         n_jobs=-1\n",
    "# )\n",
    "\n",
    "reg = BaggingRegressor(\n",
    "    HouseHolderCART(MSE(), MeanSegmentor(), max_depth=3),\n",
    "    n_estimators=30,\n",
    "    n_jobs=-1,\n",
    ")"
   ]
  },
  {
   "cell_type": "code",
   "execution_count": null,
   "id": "003418d2-6bda-40c2-a352-aef8de82e3c8",
   "metadata": {},
   "outputs": [],
   "source": []
  },
  {
   "cell_type": "code",
   "execution_count": null,
   "id": "e2d25739-ce5d-4cd7-82c3-68b999860a22",
   "metadata": {},
   "outputs": [],
   "source": [
    "%%time\n",
    "print('CV Score', cross_val_score(reg, X_train, np.argmax(y_train.values, axis=1)))"
   ]
  },
  {
   "cell_type": "code",
   "execution_count": null,
   "id": "ecd1689b-7baa-4cb5-8f68-052e54ca0aab",
   "metadata": {},
   "outputs": [],
   "source": [
    "print()"
   ]
  },
  {
   "cell_type": "code",
   "execution_count": null,
   "id": "66a660a2-7cc6-455f-95e4-8b6162afb066",
   "metadata": {},
   "outputs": [],
   "source": []
  }
 ],
 "metadata": {
  "kernelspec": {
   "display_name": "Python 3 (ipykernel)",
   "language": "python",
   "name": "python3"
  },
  "language_info": {
   "codemirror_mode": {
    "name": "ipython",
    "version": 3
   },
   "file_extension": ".py",
   "mimetype": "text/x-python",
   "name": "python",
   "nbconvert_exporter": "python",
   "pygments_lexer": "ipython3",
   "version": "3.9.12"
  }
 },
 "nbformat": 4,
 "nbformat_minor": 5
}
