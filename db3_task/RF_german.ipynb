{
 "cells": [
  {
   "cell_type": "code",
   "execution_count": 37,
   "id": "10ef42cc-5262-4b8b-aa1b-72a71bc47755",
   "metadata": {},
   "outputs": [],
   "source": [
    "import torch\n",
    "from pytorch_tabnet.tab_model import TabNetClassifier, TabNetRegressor\n",
    "from sklearn.model_selection import train_test_split\n",
    "from sklearn.preprocessing import StandardScaler\n",
    "from sklearn.metrics import classification_report, confusion_matrix, accuracy_score\n",
    "import pandas as pd\n",
    "import numpy as np\n",
    "import arff\n",
    "import matplotlib.pyplot as plt\n",
    "import seaborn as sns"
   ]
  },
  {
   "cell_type": "code",
   "execution_count": 2,
   "id": "ccd78799-d7e1-4394-bd52-37db78b5b89e",
   "metadata": {},
   "outputs": [],
   "source": [
    "german_num_df = pd.read_csv('../German_Credit_data/german.data-numeric', delim_whitespace=True, index_col=False, header=None)"
   ]
  },
  {
   "cell_type": "code",
   "execution_count": 6,
   "id": "796a197a-8b37-4ab3-bb4e-836ec3dac34b",
   "metadata": {},
   "outputs": [
    {
     "data": {
      "text/plain": [
       "((800, 25), (200, 25))"
      ]
     },
     "execution_count": 6,
     "metadata": {},
     "output_type": "execute_result"
    }
   ],
   "source": [
    "train_df, test_df = train_test_split(german_num_df, test_size=0.2)\n",
    "train_df.shape, test_df.shape"
   ]
  },
  {
   "cell_type": "code",
   "execution_count": 54,
   "id": "5daae178-1b10-4138-a494-4b22a3683efa",
   "metadata": {},
   "outputs": [
    {
     "data": {
      "text/plain": [
       "[1, 2, 3, 4]"
      ]
     },
     "execution_count": 54,
     "metadata": {},
     "output_type": "execute_result"
    }
   ],
   "source": [
    "li = [1,2,3,4,5]\n",
    "li[:-1]"
   ]
  },
  {
   "cell_type": "code",
   "execution_count": 55,
   "id": "5bec251c-91fb-407f-9783-03e9ecf5475d",
   "metadata": {},
   "outputs": [
    {
     "data": {
      "text/plain": [
       "((800, 24), (800,), (200, 24), (200,))"
      ]
     },
     "execution_count": 55,
     "metadata": {},
     "output_type": "execute_result"
    }
   ],
   "source": [
    "X_train = train_df.iloc[:,:-1]\n",
    "y_train = train_df.iloc[:,-1]\n",
    "y_train_ohe = pd.get_dummies(train_df.iloc[:,-1])\n",
    "\n",
    "X_test = test_df.iloc[:,:-1]\n",
    "y_test = test_df.iloc[:,-1]\n",
    "y_test_ohe = pd.get_dummies(test_df.iloc[:,-1])\n",
    "\n",
    "\n",
    "X_train.shape, y_train.shape, X_test.shape, y_test.shape"
   ]
  },
  {
   "cell_type": "code",
   "execution_count": 56,
   "id": "2cb1f34f-5060-4fae-bc0b-80ef0d5de064",
   "metadata": {},
   "outputs": [],
   "source": [
    "sc = StandardScaler()\n",
    "X_train = sc.fit_transform(X_train)\n",
    "X_test = sc.transform(X_test)"
   ]
  },
  {
   "cell_type": "code",
   "execution_count": 79,
   "id": "43bd646d-5843-4057-a55d-fc2875b4a79d",
   "metadata": {},
   "outputs": [],
   "source": [
    "# y_test"
   ]
  },
  {
   "cell_type": "code",
   "execution_count": 80,
   "id": "4c3eaf61-42c2-45c7-a448-bc8da7be0b5f",
   "metadata": {},
   "outputs": [],
   "source": [
    "# X_train.shape"
   ]
  },
  {
   "cell_type": "code",
   "execution_count": 59,
   "id": "818ed311-7dbd-4791-b612-057c2d7a7e55",
   "metadata": {},
   "outputs": [],
   "source": [
    "# y_train.unique()"
   ]
  },
  {
   "cell_type": "code",
   "execution_count": 69,
   "id": "dba269e7-3515-4864-b684-2b9c03f9e56a",
   "metadata": {},
   "outputs": [
    {
     "name": "stdout",
     "output_type": "stream",
     "text": [
      "CPU times: user 32.5 ms, sys: 125 µs, total: 32.7 ms\n",
      "Wall time: 31.3 ms\n"
     ]
    },
    {
     "data": {
      "text/plain": [
       "RandomForestClassifier(class_weight=[{0: 1, 1: 6}, {0: 2, 1: 6}], max_depth=10,\n",
       "                       n_estimators=10, random_state=0)"
      ]
     },
     "execution_count": 69,
     "metadata": {},
     "output_type": "execute_result"
    }
   ],
   "source": [
    "%%time\n",
    "from sklearn.ensemble import RandomForestClassifier\n",
    "\n",
    "class_weight = [{0: 1,1: 6},{0: 2,1: 6}]\n",
    "clf = RandomForestClassifier(n_estimators=10, max_depth=10, random_state=0, class_weight=class_weight)\n",
    "clf.fit(X_train, y_train_ohe.values)"
   ]
  },
  {
   "cell_type": "code",
   "execution_count": 74,
   "id": "521cad5f-9e9e-44cb-889b-d98100fc6a02",
   "metadata": {},
   "outputs": [
    {
     "name": "stdout",
     "output_type": "stream",
     "text": [
      "CPU times: user 11.3 ms, sys: 0 ns, total: 11.3 ms\n",
      "Wall time: 12.8 ms\n"
     ]
    },
    {
     "data": {
      "text/plain": [
       "0.90625"
      ]
     },
     "execution_count": 74,
     "metadata": {},
     "output_type": "execute_result"
    }
   ],
   "source": [
    "%%time\n",
    "y_train_pred = clf.predict(X_train)\n",
    "accuracy_score(y_train_ohe, y_train_pred)"
   ]
  },
  {
   "cell_type": "code",
   "execution_count": 78,
   "id": "45312c8d-f23f-48c7-ad1f-59638268b817",
   "metadata": {},
   "outputs": [
    {
     "data": {
      "image/png": "[encoded data removed]",
      "text/plain": [
       "<Figure size 1080x864 with 2 Axes>"
      ]
     },
     "metadata": {
      "needs_background": "light"
     },
     "output_type": "display_data"
    }
   ],
   "source": [
    "test_cnf_matrix = confusion_matrix(np.argmax(y_train_ohe.values, axis=1), np.argmax(y_train_pred, axis=1))\n",
    "plt.figure(figsize=(15,12))\n",
    "test_cnf_df = pd.DataFrame(test_cnf_matrix, index= range(2), columns=range(2))\n",
    "# sns.heatmap(np.log(test_cnf_df+1), annot=True)\n",
    "# sns.heatmap(np.log2(test_cnf_df+1), annot=True)\n",
    "sns.heatmap(test_cnf_df, annot=True)\n",
    "plt.xlabel('Predicted Values')\n",
    "plt.ylabel('Actual Values')\n",
    "plt.title(\"Log Correlation matrix of test\")\n",
    "plt.savefig('rf_traffic_conf_mat_test.png')"
   ]
  },
  {
   "cell_type": "code",
   "execution_count": null,
   "id": "c110825c-8804-493d-b228-e7412d92b343",
   "metadata": {},
   "outputs": [],
   "source": []
  },
  {
   "cell_type": "code",
   "execution_count": null,
   "id": "f5f3eb67-ef46-44d0-8aaf-5a9e40e91917",
   "metadata": {},
   "outputs": [],
   "source": []
  },
  {
   "cell_type": "code",
   "execution_count": 64,
   "id": "de9a6f6c-1538-4374-95d9-ec2a7e4f9d0a",
   "metadata": {
    "collapsed": true,
    "jupyter": {
     "outputs_hidden": true,
     "source_hidden": true
    },
    "tags": []
   },
   "outputs": [
    {
     "name": "stderr",
     "output_type": "stream",
     "text": [
      "/home/harsh/anaconda3/lib/python3.9/site-packages/pytorch_tabnet/abstract_model.py:75: UserWarning: Device used : cuda\n",
      "  warnings.warn(f\"Device used : {self.device}\")\n",
      "/home/harsh/anaconda3/lib/python3.9/site-packages/pytorch_tabnet/callbacks.py:172: UserWarning: Best weights from best epoch are automatically used!\n",
      "  warnings.warn(wrn_msg)\n"
     ]
    },
    {
     "name": "stdout",
     "output_type": "stream",
     "text": [
      "epoch 0  | loss: 0.0     | val_0_logloss: 1.29777 |  0:00:00s\n",
      "epoch 1  | loss: 0.0     | val_0_logloss: 1.29777 |  0:00:00s\n",
      "epoch 2  | loss: 0.0     | val_0_logloss: 1.29777 |  0:00:00s\n",
      "epoch 3  | loss: 0.0     | val_0_logloss: 1.29777 |  0:00:00s\n",
      "epoch 4  | loss: 0.0     | val_0_logloss: 1.29777 |  0:00:00s\n",
      "epoch 5  | loss: 0.0     | val_0_logloss: 1.29777 |  0:00:00s\n",
      "epoch 6  | loss: 0.0     | val_0_logloss: 1.29777 |  0:00:00s\n",
      "epoch 7  | loss: 0.0     | val_0_logloss: 1.29777 |  0:00:00s\n",
      "epoch 8  | loss: 0.0     | val_0_logloss: 1.29777 |  0:00:00s\n",
      "epoch 9  | loss: 0.0     | val_0_logloss: 1.29777 |  0:00:00s\n",
      "Stop training because you reached max_epochs = 10 with best_epoch = 0 and best_val_0_logloss = 1.29777\n",
      "CPU times: user 222 ms, sys: 3.23 ms, total: 225 ms\n",
      "Wall time: 222 ms\n"
     ]
    }
   ],
   "source": [
    "# %%time\n",
    "# from pytorch_tabnet.multitask import TabNetMultiTaskClassifier\n",
    "# device = torch.device('cuda' if torch.cuda.is_available() else 'cpu')\n",
    "\n",
    "# # Xp_train = torch.Tensor(X_train)\n",
    "# # yp_train = torch.Tensor(y_train.values)\n",
    "\n",
    "# # Xp_test = torch.Tensor(X_test)\n",
    "# # yp_test = torch.Tensor(y_test.values)\n",
    "\n",
    "# clf = TabNetClassifier() \n",
    "# clf.fit(\n",
    "#   X_train, y_train,\n",
    "#   eval_set=[(X_test, y_test)], max_epochs=30\n",
    "# )\n",
    "\n",
    "# # clf.fit(\n",
    "# #   Xp_train.to(device), yp_train.to(device),\n",
    "# #   eval_set=[(Xp_test, yp_test)], max_epochs=30\n",
    "# # )\n",
    "\n",
    "# # clf = TabNetMultiTaskClassifier()\n",
    "# # clf.fit(\n",
    "# #   X_train, y_train_ohe.values, max_epochs=10, \n",
    "# #     eval_set=[(X_test, y_test_ohe.values)]\n",
    "# # )"
   ]
  },
  {
   "cell_type": "code",
   "execution_count": 62,
   "id": "c7ccf087-f25f-4d72-8a19-93fbf83bd59e",
   "metadata": {},
   "outputs": [],
   "source": [
    "y_pred_test = clf.predict(X_test)"
   ]
  },
  {
   "cell_type": "code",
   "execution_count": 63,
   "id": "e9b1f06c-34d5-41f3-abca-5290be784a78",
   "metadata": {},
   "outputs": [
    {
     "data": {
      "text/plain": [
       "0.425"
      ]
     },
     "execution_count": 63,
     "metadata": {},
     "output_type": "execute_result"
    }
   ],
   "source": [
    "accuracy_score(y_test, y_pred_test)"
   ]
  },
  {
   "cell_type": "code",
   "execution_count": null,
   "id": "694a7562-e037-4590-8c6c-f5a996cd9174",
   "metadata": {},
   "outputs": [],
   "source": []
  }
 ],
 "metadata": {
  "kernelspec": {
   "display_name": "Python 3 (ipykernel)",
   "language": "python",
   "name": "python3"
  },
  "language_info": {
   "codemirror_mode": {
    "name": "ipython",
    "version": 3
   },
   "file_extension": ".py",
   "mimetype": "text/x-python",
   "name": "python",
   "nbconvert_exporter": "python",
   "pygments_lexer": "ipython3",
   "version": "3.9.12"
  }
 },
 "nbformat": 4,
 "nbformat_minor": 5
}
